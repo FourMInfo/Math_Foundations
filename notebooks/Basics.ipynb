{
 "cells": [
  {
   "cell_type": "code",
   "execution_count": 8,
   "metadata": {},
   "outputs": [],
   "source": [
    "using Plots\n",
    "using Symbolics\n",
    "using Latexify\n",
    "using LaTeXStrings\n",
    "#include(\"../src/basic_maths.jl\")\n",
    "\n"
   ]
  },
  {
   "cell_type": "markdown",
   "metadata": {},
   "source": [
    "Example of simplifying an algebraic expression using *Symbolics.jl*:"
   ]
  },
  {
   "cell_type": "code",
   "execution_count": 3,
   "metadata": {},
   "outputs": [
    {
     "data": {
      "text/latex": [
       "$$ \\begin{equation}\n",
       " - 3 b + 12 b^{2} a + 18 b^{3} - 12 b^{2} a^{2} - 18 b^{3} a\n",
       "\\end{equation}\n",
       " $$"
      ],
      "text/plain": [
       "-3b + 12a*(b^2) + 18(b^3) - 12(a^2)*(b^2) - 18a*(b^3)"
      ]
     },
     "metadata": {},
     "output_type": "display_data"
    }
   ],
   "source": [
    "@variables a b c\n",
    "expr = 3b - (2b * (3 - (2 * a + 3 * b) * (3 * b * (1 - a))))\n",
    "simplify(expr, expand=true)"
   ]
  },
  {
   "cell_type": "code",
   "execution_count": null,
   "metadata": {},
   "outputs": [],
   "source": [
    "@variables a b c\n",
    "expr = PolyForm(3b - (2b * (3 - (2 * a + 3 * b) * (3 * b * (1 - a)))))\n",
    "simplify(expr, expand=true)"
   ]
  },
  {
   "cell_type": "markdown",
   "metadata": {},
   "source": [
    "Examples of fraction simplification:"
   ]
  },
  {
   "cell_type": "code",
   "execution_count": null,
   "metadata": {},
   "outputs": [],
   "source": [
    "((1 // 2)^3) * ((2 // 3)^5) * ((3 // 4)^2)"
   ]
  },
  {
   "cell_type": "code",
   "execution_count": null,
   "metadata": {},
   "outputs": [],
   "source": [
    "52 // 76 / 19 // 13"
   ]
  },
  {
   "cell_type": "code",
   "execution_count": null,
   "metadata": {},
   "outputs": [],
   "source": [
    "13 // 7 * 21 // 6"
   ]
  },
  {
   "cell_type": "markdown",
   "metadata": {},
   "source": [
    "Examples of power simplification:"
   ]
  },
  {
   "cell_type": "code",
   "execution_count": null,
   "metadata": {},
   "outputs": [],
   "source": [
    "round(Complex(-20)^(1 / 20), digits=5)"
   ]
  },
  {
   "cell_type": "code",
   "execution_count": null,
   "metadata": {},
   "outputs": [],
   "source": [
    "round((Complex(-20)^(1 / 20))^20, digits=5)"
   ]
  },
  {
   "cell_type": "code",
   "execution_count": null,
   "metadata": {},
   "outputs": [],
   "source": [
    "@variables a b\n",
    "simplify(3*b- (2*b * (3- (2*a + 3*b) * (3*b - 3*a*b))), expand=true)"
   ]
  },
  {
   "cell_type": "code",
   "execution_count": 6,
   "metadata": {},
   "outputs": [
    {
     "data": {
      "text/html": [
       "1 * x * a * (b*x + y) * y"
      ],
      "text/latex": [
       "1 \\cdot x \\cdot a \\cdot \\left(b x + y\\right) \\cdot y"
      ],
      "text/plain": [
       "1 * x * a * (b*x + y) * y"
      ]
     },
     "metadata": {},
     "output_type": "display_data"
    }
   ],
   "source": [
    "using Nemo\n",
    "R, (a, b, c, x, y,z) = polynomial_ring(ZZ, [\"a\", \"b\",\"c\", \"x\", \"y\",\"z\"]);\n",
    "S = fraction_field(R)\n",
    "f = factor(a * b * x^2 * y + a * x * y^2)\n"
   ]
  },
  {
   "cell_type": "code",
   "execution_count": 20,
   "metadata": {},
   "outputs": [
    {
     "data": {
      "text/latex": [
       "$\\begin{equation}1 * x * a * (b*x + y) * y\\end{equation}$"
      ],
      "text/plain": [
       "L\"$\\begin{equation}1 * x * a * (b*x + y) * y\\end{equation}$\""
      ]
     },
     "metadata": {},
     "output_type": "display_data"
    }
   ],
   "source": [
    "orig_stdout = stdout\n",
    "(rd, wr) = redirect_stdout()\n",
    "println(f)\n",
    "s = readline(rd)\n",
    "redirect_stdout(orig_stdout)\n",
    "rs = \"\\\\begin{equation}\" * s * \"\\\\end{equation}\"\n",
    "latexstring(rs)"
   ]
  },
  {
   "cell_type": "code",
   "execution_count": 13,
   "metadata": {},
   "outputs": [
    {
     "data": {
      "text/html": [
       "a*x*y"
      ],
      "text/latex": [
       "a x y"
      ],
      "text/plain": [
       "a*x*y"
      ]
     },
     "metadata": {},
     "output_type": "display_data"
    }
   ],
   "source": [
    "gcd(a * b * x^2 * y, a * x * y^2)"
   ]
  },
  {
   "cell_type": "code",
   "execution_count": 5,
   "metadata": {},
   "outputs": [
    {
     "data": {
      "text/html": [
       "-1 * a * (2*a*x - 2*b*x^2 - 4*b - x) * 3"
      ],
      "text/latex": [
       "-1 \\cdot a \\cdot \\left(2 a x - 2 b x^{2} - 4 b - x\\right) \\cdot 3"
      ],
      "text/plain": [
       "-1 * a * (2*a*x - 2*b*x^2 - 4*b - x) * 3"
      ]
     },
     "metadata": {},
     "output_type": "display_data"
    }
   ],
   "source": [
    "factor(6*a*b*x^2 - 6*a^2 *x + 3*a*x + 12*a*b)"
   ]
  },
  {
   "cell_type": "code",
   "execution_count": 10,
   "metadata": {},
   "outputs": [
    {
     "data": {
      "text/html": [
       "3*a"
      ],
      "text/latex": [
       "3 a"
      ],
      "text/plain": [
       "3*a"
      ]
     },
     "metadata": {},
     "output_type": "display_data"
    }
   ],
   "source": [
    "gcd(6 * a * b * x^2, 6 * a * b * x^2 - 6 * a^2 * x, 3 * a * x, 12 * a * b)"
   ]
  },
  {
   "cell_type": "code",
   "execution_count": 14,
   "metadata": {},
   "outputs": [
    {
     "data": {
      "text/html": [
       "17*y"
      ],
      "text/latex": [
       "17 y"
      ],
      "text/plain": [
       "17*y"
      ]
     },
     "metadata": {},
     "output_type": "display_data"
    }
   ],
   "source": [
    "gcd(34*x*y*z^2,-17*x^3*y*z, 51*y^4)"
   ]
  },
  {
   "cell_type": "code",
   "execution_count": 21,
   "metadata": {},
   "outputs": [
    {
     "data": {
      "text/html": [
       "1 * b * 2 * a * (a - 2*b + 4*c) * c"
      ],
      "text/latex": [
       "1 \\cdot b \\cdot 2 \\cdot a \\cdot \\left(a - 2 b + 4 c\\right) \\cdot c"
      ],
      "text/plain": [
       "1 * b * 2 * a * (a - 2*b + 4*c) * c"
      ]
     },
     "metadata": {},
     "output_type": "display_data"
    }
   ],
   "source": [
    "factor(2*a^2*b*c-4*a*b^2*c+8*a*b*c^2)"
   ]
  },
  {
   "cell_type": "code",
   "execution_count": 24,
   "metadata": {},
   "outputs": [
    {
     "data": {
      "text/html": [
       "2*a*b*c"
      ],
      "text/latex": [
       "2 a b c"
      ],
      "text/plain": [
       "2*a*b*c"
      ]
     },
     "metadata": {},
     "output_type": "display_data"
    }
   ],
   "source": [
    "gcd(2 * a^2 * b * c ,- 4 * a * b^2 * c ,8 * a * b * c^2)"
   ]
  },
  {
   "cell_type": "code",
   "execution_count": 33,
   "metadata": {},
   "outputs": [
    {
     "data": {
      "text/html": [
       "(4*x - 2*y)//y"
      ],
      "text/latex": [
       "\\frac{4 x - 2 y}{y}"
      ],
      "text/plain": [
       "(4*x - 2*y)//y"
      ]
     },
     "metadata": {},
     "output_type": "display_data"
    }
   ],
   "source": [
    "factor((4*a*x-2*a*y)//(a*y))"
   ]
  },
  {
   "cell_type": "code",
   "execution_count": 32,
   "metadata": {},
   "outputs": [
    {
     "data": {
      "text/html": [
       "1 * (2*x - y) * 2"
      ],
      "text/latex": [
       "1 \\cdot \\left(2 x - y\\right) \\cdot 2"
      ],
      "text/plain": [
       "1 * (2*x - y) * 2"
      ]
     },
     "metadata": {},
     "output_type": "display_data"
    }
   ],
   "source": [
    "factor(4*x - 2*y)"
   ]
  },
  {
   "cell_type": "code",
   "execution_count": 35,
   "metadata": {},
   "outputs": [
    {
     "data": {
      "text/html": [
       "(-2*a*x + 2*b*x^2 + 4*b + x)//(2*a*x - 4*x^2 + 2*x*y^2)"
      ],
      "text/latex": [
       "\\frac{-2 a x + 2 b x^{2} + 4 b + x}{2 a x - 4 x^{2} + 2 x y^{2}}"
      ],
      "text/plain": [
       "(-2*a*x + 2*b*x^2 + 4*b + x)//(2*a*x - 4*x^2 + 2*x*y^2)"
      ]
     },
     "metadata": {},
     "output_type": "display_data"
    }
   ],
   "source": [
    "f = factor((6*a*b*x^2 - 6*a^2*x + 3*a*x + 12*a*b)//(6*a*x*y^2 - 12*a*x^2 + 6*a^2*x ))\n",
    "#fn = S(6*a*b*x^2 - 6*a^2*x + 3*a*x + 12*a*b)\n",
    "#fd = S(6*a*x*y^2 - 12*a*x^2 + 6*a^2*x)\n",
    "#factor(fn//fd)\n",
    "\n",
    "\n"
   ]
  },
  {
   "cell_type": "code",
   "execution_count": 36,
   "metadata": {},
   "outputs": [
    {
     "data": {
      "text/html": [
       "1 * (a - 2*x + y^2) * x * 2"
      ],
      "text/latex": [
       "1 \\cdot \\left(a - 2 x + y^{2}\\right) \\cdot x \\cdot 2"
      ],
      "text/plain": [
       "1 * (a - 2*x + y^2) * x * 2"
      ]
     },
     "metadata": {},
     "output_type": "display_data"
    }
   ],
   "source": [
    "factor(2*a*x - 4*x^2 + 2*x*y^2)\n"
   ]
  },
  {
   "cell_type": "code",
   "execution_count": 38,
   "metadata": {},
   "outputs": [
    {
     "data": {
      "text/html": [
       "(2*b*c^2)//(c - 2)"
      ],
      "text/latex": [
       "\\frac{2 b c^{2}}{c - 2}"
      ],
      "text/plain": [
       "(2*b*c^2)//(c - 2)"
      ]
     },
     "metadata": {},
     "output_type": "display_data"
    }
   ],
   "source": [
    "factor((4*a^3*(b*c)^2)//((2*a*b*c-4*a*b)*a^2))"
   ]
  },
  {
   "cell_type": "code",
   "execution_count": 39,
   "metadata": {},
   "outputs": [
    {
     "data": {
      "text/html": [
       "(3*x^3)//y^3"
      ],
      "text/latex": [
       "\\frac{3 x^{3}}{y^{3}}"
      ],
      "text/plain": [
       "(3*x^3)//y^3"
      ]
     },
     "metadata": {},
     "output_type": "display_data"
    }
   ],
   "source": [
    "factor((3*x^2*y*z)^3//(9*(x*y^2*z)^3))"
   ]
  },
  {
   "cell_type": "markdown",
   "metadata": {},
   "source": [
    "For n being odd use first formula to calculate the nth root for some x. For even use secondd case."
   ]
  },
  {
   "cell_type": "code",
   "execution_count": 4,
   "metadata": {},
   "outputs": [
    {
     "data": {
      "text/plain": [
       "-2.0"
      ]
     },
     "metadata": {},
     "output_type": "display_data"
    }
   ],
   "source": [
    "x = -8\n",
    "n = 3\n",
    "sign(x) * abs(x)^(1/n)\n"
   ]
  },
  {
   "cell_type": "code",
   "execution_count": 5,
   "metadata": {},
   "outputs": [
    {
     "data": {
      "text/plain": [
       "0.0 + 2.8284271247461903im"
      ]
     },
     "metadata": {},
     "output_type": "display_data"
    }
   ],
   "source": [
    "x = -8 \n",
    "n = 2\n",
    "Complex(x)^(1/n)\n"
   ]
  },
  {
   "cell_type": "code",
   "execution_count": 2,
   "metadata": {},
   "outputs": [
    {
     "name": "stdout",
     "output_type": "stream",
     "text": [
      "-2.0\n",
      "2.0\n"
     ]
    }
   ],
   "source": [
    "function nth_root(x, n)\n",
    "    return x < 0 && n % 2 == 1 ? -abs(x)^(1/n) : x^(1/n)\n",
    "end\n",
    "\n",
    "# Examples\n",
    "println(nth_root(-8, 3))  # Should return -2.0\n",
    "println(nth_root(16, 4))  # Should return 2.0"
   ]
  },
  {
   "cell_type": "markdown",
   "metadata": {},
   "source": [
    "Polynomials and substitutions"
   ]
  },
  {
   "cell_type": "code",
   "execution_count": 7,
   "metadata": {},
   "outputs": [
    {
     "name": "stdout",
     "output_type": "stream",
     "text": [
      "0.25\n",
      "1.0\n"
     ]
    },
    {
     "data": {
      "image/png": "[encoded data removed]",
      "image/svg+xml": [
       "<?xml version=\"1.0\" encoding=\"utf-8\"?>\n",
       "<svg xmlns=\"http://www.w3.org/2000/svg\" xmlns:xlink=\"http://www.w3.org/1999/xlink\" width=\"600\" height=\"400\" viewBox=\"0 0 2400 1600\">\n",
       "<defs>\n",
       "  <clipPath id=\"clip720\">\n",
       "    <rect x=\"0\" y=\"0\" width=\"2400\" height=\"1600\"/>\n",
       "  </clipPath>\n",
       "</defs>\n",
       "<path clip-path=\"url(#clip720)\" d=\"M0 1600 L2400 1600 L2400 8.88178e-14 L0 8.88178e-14  Z\" fill=\"#ffffff\" fill-rule=\"evenodd\" fill-opacity=\"1\"/>\n",
       "<defs>\n",
       "  <clipPath id=\"clip721\">\n",
       "    <rect x=\"480\" y=\"0\" width=\"1681\" height=\"1600\"/>\n",
       "  </clipPath>\n",
       "</defs>\n",
       "<path clip-path=\"url(#clip720)\" d=\"M112.177 1486.45 L2352.76 1486.45 L2352.76 47.2441 L112.177 47.2441  Z\" fill=\"#ffffff\" fill-rule=\"evenodd\" fill-opacity=\"1\"/>\n",
       "<defs>\n",
       "  <clipPath id=\"clip722\">\n",
       "    <rect x=\"112\" y=\"47\" width=\"2242\" height=\"1440\"/>\n",
       "  </clipPath>\n",
       "</defs>\n",
       "<polyline clip-path=\"url(#clip722)\" style=\"stroke:#000000; stroke-linecap:round; stroke-linejoin:round; stroke-width:2; stroke-opacity:0.1; fill:none\" points=\"386.965,1486.45 386.965,47.2441 \"/>\n",
       "<polyline clip-path=\"url(#clip722)\" style=\"stroke:#000000; stroke-linecap:round; stroke-linejoin:round; stroke-width:2; stroke-opacity:0.1; fill:none\" points=\"809.716,1486.45 809.716,47.2441 \"/>\n",
       "<polyline clip-path=\"url(#clip722)\" style=\"stroke:#000000; stroke-linecap:round; stroke-linejoin:round; stroke-width:2; stroke-opacity:0.1; fill:none\" points=\"1232.47,1486.45 1232.47,47.2441 \"/>\n",
       "<polyline clip-path=\"url(#clip722)\" style=\"stroke:#000000; stroke-linecap:round; stroke-linejoin:round; stroke-width:2; stroke-opacity:0.1; fill:none\" points=\"1655.22,1486.45 1655.22,47.2441 \"/>\n",
       "<polyline clip-path=\"url(#clip722)\" style=\"stroke:#000000; stroke-linecap:round; stroke-linejoin:round; stroke-width:2; stroke-opacity:0.1; fill:none\" points=\"2077.97,1486.45 2077.97,47.2441 \"/>\n",
       "<polyline clip-path=\"url(#clip722)\" style=\"stroke:#000000; stroke-linecap:round; stroke-linejoin:round; stroke-width:2; stroke-opacity:0.1; fill:none\" points=\"112.177,1445.74 2352.76,1445.74 \"/>\n",
       "<polyline clip-path=\"url(#clip722)\" style=\"stroke:#000000; stroke-linecap:round; stroke-linejoin:round; stroke-width:2; stroke-opacity:0.1; fill:none\" points=\"112.177,1228.5 2352.76,1228.5 \"/>\n",
       "<polyline clip-path=\"url(#clip722)\" style=\"stroke:#000000; stroke-linecap:round; stroke-linejoin:round; stroke-width:2; stroke-opacity:0.1; fill:none\" points=\"112.177,1011.26 2352.76,1011.26 \"/>\n",
       "<polyline clip-path=\"url(#clip722)\" style=\"stroke:#000000; stroke-linecap:round; stroke-linejoin:round; stroke-width:2; stroke-opacity:0.1; fill:none\" points=\"112.177,794.015 2352.76,794.015 \"/>\n",
       "<polyline clip-path=\"url(#clip722)\" style=\"stroke:#000000; stroke-linecap:round; stroke-linejoin:round; stroke-width:2; stroke-opacity:0.1; fill:none\" points=\"112.177,576.773 2352.76,576.773 \"/>\n",
       "<polyline clip-path=\"url(#clip722)\" style=\"stroke:#000000; stroke-linecap:round; stroke-linejoin:round; stroke-width:2; stroke-opacity:0.1; fill:none\" points=\"112.177,359.53 2352.76,359.53 \"/>\n",
       "<polyline clip-path=\"url(#clip722)\" style=\"stroke:#000000; stroke-linecap:round; stroke-linejoin:round; stroke-width:2; stroke-opacity:0.1; fill:none\" points=\"112.177,142.287 2352.76,142.287 \"/>\n",
       "<polyline clip-path=\"url(#clip720)\" style=\"stroke:#000000; stroke-linecap:round; stroke-linejoin:round; stroke-width:4; stroke-opacity:1; fill:none\" points=\"112.177,1486.45 2352.76,1486.45 \"/>\n",
       "<polyline clip-path=\"url(#clip720)\" style=\"stroke:#000000; stroke-linecap:round; stroke-linejoin:round; stroke-width:4; stroke-opacity:1; fill:none\" points=\"386.965,1486.45 386.965,1467.55 \"/>\n",
       "<polyline clip-path=\"url(#clip720)\" style=\"stroke:#000000; stroke-linecap:round; stroke-linejoin:round; stroke-width:4; stroke-opacity:1; fill:none\" points=\"809.716,1486.45 809.716,1467.55 \"/>\n",
       "<polyline clip-path=\"url(#clip720)\" style=\"stroke:#000000; stroke-linecap:round; stroke-linejoin:round; stroke-width:4; stroke-opacity:1; fill:none\" points=\"1232.47,1486.45 1232.47,1467.55 \"/>\n",
       "<polyline clip-path=\"url(#clip720)\" style=\"stroke:#000000; stroke-linecap:round; stroke-linejoin:round; stroke-width:4; stroke-opacity:1; fill:none\" points=\"1655.22,1486.45 1655.22,1467.55 \"/>\n",
       "<polyline clip-path=\"url(#clip720)\" style=\"stroke:#000000; stroke-linecap:round; stroke-linejoin:round; stroke-width:4; stroke-opacity:1; fill:none\" points=\"2077.97,1486.45 2077.97,1467.55 \"/>\n",
       "<path clip-path=\"url(#clip720)\" d=\"M355.866 1532.02 L385.542 1532.02 L385.542 1535.95 L355.866 1535.95 L355.866 1532.02 Z\" fill=\"#000000\" fill-rule=\"nonzero\" fill-opacity=\"1\" /><path clip-path=\"url(#clip720)\" d=\"M408.481 1518.36 L396.676 1536.81 L408.481 1536.81 L408.481 1518.36 M407.254 1514.29 L413.134 1514.29 L413.134 1536.81 L418.065 1536.81 L418.065 1540.7 L413.134 1540.7 L413.134 1548.85 L408.481 1548.85 L408.481 1540.7 L392.879 1540.7 L392.879 1536.19 L407.254 1514.29 Z\" fill=\"#000000\" fill-rule=\"nonzero\" fill-opacity=\"1\" /><path clip-path=\"url(#clip720)\" d=\"M779.658 1532.02 L809.334 1532.02 L809.334 1535.95 L779.658 1535.95 L779.658 1532.02 Z\" fill=\"#000000\" fill-rule=\"nonzero\" fill-opacity=\"1\" /><path clip-path=\"url(#clip720)\" d=\"M823.454 1544.91 L839.774 1544.91 L839.774 1548.85 L817.829 1548.85 L817.829 1544.91 Q820.491 1542.16 825.075 1537.53 Q829.681 1532.88 830.862 1531.53 Q833.107 1529.01 833.987 1527.27 Q834.889 1525.51 834.889 1523.82 Q834.889 1521.07 832.945 1519.33 Q831.024 1517.6 827.922 1517.6 Q825.723 1517.6 823.269 1518.36 Q820.838 1519.13 818.061 1520.68 L818.061 1515.95 Q820.885 1514.82 823.338 1514.24 Q825.792 1513.66 827.829 1513.66 Q833.2 1513.66 836.394 1516.35 Q839.588 1519.03 839.588 1523.52 Q839.588 1525.65 838.778 1527.57 Q837.991 1529.47 835.885 1532.07 Q835.306 1532.74 832.204 1535.95 Q829.102 1539.15 823.454 1544.91 Z\" fill=\"#000000\" fill-rule=\"nonzero\" fill-opacity=\"1\" /><path clip-path=\"url(#clip720)\" d=\"M1232.47 1517.37 Q1228.86 1517.37 1227.03 1520.93 Q1225.22 1524.47 1225.22 1531.6 Q1225.22 1538.71 1227.03 1542.27 Q1228.86 1545.82 1232.47 1545.82 Q1236.1 1545.82 1237.91 1542.27 Q1239.74 1538.71 1239.74 1531.6 Q1239.74 1524.47 1237.91 1520.93 Q1236.1 1517.37 1232.47 1517.37 M1232.47 1513.66 Q1238.28 1513.66 1241.33 1518.27 Q1244.41 1522.85 1244.41 1531.6 Q1244.41 1540.33 1241.33 1544.94 Q1238.28 1549.52 1232.47 1549.52 Q1226.66 1549.52 1223.58 1544.94 Q1220.52 1540.33 1220.52 1531.6 Q1220.52 1522.85 1223.58 1518.27 Q1226.66 1513.66 1232.47 1513.66 Z\" fill=\"#000000\" fill-rule=\"nonzero\" fill-opacity=\"1\" /><path clip-path=\"url(#clip720)\" d=\"M1649.87 1544.91 L1666.19 1544.91 L1666.19 1548.85 L1644.25 1548.85 L1644.25 1544.91 Q1646.91 1542.16 1651.49 1537.53 Q1656.1 1532.88 1657.28 1531.53 Q1659.52 1529.01 1660.4 1527.27 Q1661.31 1525.51 1661.31 1523.82 Q1661.31 1521.07 1659.36 1519.33 Q1657.44 1517.6 1654.34 1517.6 Q1652.14 1517.6 1649.68 1518.36 Q1647.25 1519.13 1644.48 1520.68 L1644.48 1515.95 Q1647.3 1514.82 1649.75 1514.24 Q1652.21 1513.66 1654.25 1513.66 Q1659.62 1513.66 1662.81 1516.35 Q1666 1519.03 1666 1523.52 Q1666 1525.65 1665.19 1527.57 Q1664.41 1529.47 1662.3 1532.07 Q1661.72 1532.74 1658.62 1535.95 Q1655.52 1539.15 1649.87 1544.91 Z\" fill=\"#000000\" fill-rule=\"nonzero\" fill-opacity=\"1\" /><path clip-path=\"url(#clip720)\" d=\"M2080.98 1518.36 L2069.17 1536.81 L2080.98 1536.81 L2080.98 1518.36 M2079.75 1514.29 L2085.63 1514.29 L2085.63 1536.81 L2090.56 1536.81 L2090.56 1540.7 L2085.63 1540.7 L2085.63 1548.85 L2080.98 1548.85 L2080.98 1540.7 L2065.38 1540.7 L2065.38 1536.19 L2079.75 1514.29 Z\" fill=\"#000000\" fill-rule=\"nonzero\" fill-opacity=\"1\" /><polyline clip-path=\"url(#clip720)\" style=\"stroke:#000000; stroke-linecap:round; stroke-linejoin:round; stroke-width:4; stroke-opacity:1; fill:none\" points=\"112.177,1486.45 112.177,47.2441 \"/>\n",
       "<polyline clip-path=\"url(#clip720)\" style=\"stroke:#000000; stroke-linecap:round; stroke-linejoin:round; stroke-width:4; stroke-opacity:1; fill:none\" points=\"112.177,1445.74 131.075,1445.74 \"/>\n",
       "<polyline clip-path=\"url(#clip720)\" style=\"stroke:#000000; stroke-linecap:round; stroke-linejoin:round; stroke-width:4; stroke-opacity:1; fill:none\" points=\"112.177,1228.5 131.075,1228.5 \"/>\n",
       "<polyline clip-path=\"url(#clip720)\" style=\"stroke:#000000; stroke-linecap:round; stroke-linejoin:round; stroke-width:4; stroke-opacity:1; fill:none\" points=\"112.177,1011.26 131.075,1011.26 \"/>\n",
       "<polyline clip-path=\"url(#clip720)\" style=\"stroke:#000000; stroke-linecap:round; stroke-linejoin:round; stroke-width:4; stroke-opacity:1; fill:none\" points=\"112.177,794.015 131.075,794.015 \"/>\n",
       "<polyline clip-path=\"url(#clip720)\" style=\"stroke:#000000; stroke-linecap:round; stroke-linejoin:round; stroke-width:4; stroke-opacity:1; fill:none\" points=\"112.177,576.773 131.075,576.773 \"/>\n",
       "<polyline clip-path=\"url(#clip720)\" style=\"stroke:#000000; stroke-linecap:round; stroke-linejoin:round; stroke-width:4; stroke-opacity:1; fill:none\" points=\"112.177,359.53 131.075,359.53 \"/>\n",
       "<polyline clip-path=\"url(#clip720)\" style=\"stroke:#000000; stroke-linecap:round; stroke-linejoin:round; stroke-width:4; stroke-opacity:1; fill:none\" points=\"112.177,142.287 131.075,142.287 \"/>\n",
       "<path clip-path=\"url(#clip720)\" d=\"M64.2328 1431.54 Q60.6217 1431.54 58.793 1435.11 Q56.9875 1438.65 56.9875 1445.78 Q56.9875 1452.88 58.793 1456.45 Q60.6217 1459.99 64.2328 1459.99 Q67.867 1459.99 69.6726 1456.45 Q71.5013 1452.88 71.5013 1445.78 Q71.5013 1438.65 69.6726 1435.11 Q67.867 1431.54 64.2328 1431.54 M64.2328 1427.84 Q70.0429 1427.84 73.0985 1432.45 Q76.1772 1437.03 76.1772 1445.78 Q76.1772 1454.51 73.0985 1459.11 Q70.0429 1463.69 64.2328 1463.69 Q58.4226 1463.69 55.344 1459.11 Q52.2884 1454.51 52.2884 1445.78 Q52.2884 1437.03 55.344 1432.45 Q58.4226 1427.84 64.2328 1427.84 Z\" fill=\"#000000\" fill-rule=\"nonzero\" fill-opacity=\"1\" /><path clip-path=\"url(#clip720)\" d=\"M56.2699 1241.85 L63.9087 1241.85 L63.9087 1215.48 L55.5986 1217.15 L55.5986 1212.89 L63.8624 1211.22 L68.5383 1211.22 L68.5383 1241.85 L76.1772 1241.85 L76.1772 1245.78 L56.2699 1245.78 L56.2699 1241.85 Z\" fill=\"#000000\" fill-rule=\"nonzero\" fill-opacity=\"1\" /><path clip-path=\"url(#clip720)\" d=\"M59.8578 1024.6 L76.1772 1024.6 L76.1772 1028.54 L54.2328 1028.54 L54.2328 1024.6 Q56.8949 1021.85 61.4782 1017.22 Q66.0846 1012.57 67.2652 1011.22 Q69.5105 1008.7 70.3902 1006.96 Q71.2929 1005.2 71.2929 1003.52 Q71.2929 1000.76 69.3485 999.024 Q67.4272 997.288 64.3254 997.288 Q62.1263 997.288 59.6726 998.052 Q57.2421 998.816 54.4643 1000.37 L54.4643 995.645 Q57.2884 994.51 59.7421 993.932 Q62.1958 993.353 64.2328 993.353 Q69.6031 993.353 72.7976 996.038 Q75.992 998.723 75.992 1003.21 Q75.992 1005.34 75.1818 1007.27 Q74.3948 1009.16 72.2883 1011.76 Q71.7096 1012.43 68.6078 1015.64 Q65.5059 1018.84 59.8578 1024.6 Z\" fill=\"#000000\" fill-rule=\"nonzero\" fill-opacity=\"1\" /><path clip-path=\"url(#clip720)\" d=\"M69.0476 792.661 Q72.404 793.379 74.279 795.647 Q76.1772 797.916 76.1772 801.249 Q76.1772 806.365 72.6587 809.166 Q69.1402 811.967 62.6587 811.967 Q60.4828 811.967 58.168 811.527 Q55.8764 811.11 53.4227 810.254 L53.4227 805.74 Q55.3671 806.874 57.6819 807.453 Q59.9967 808.031 62.5198 808.031 Q66.918 808.031 69.2096 806.295 Q71.5244 804.559 71.5244 801.249 Q71.5244 798.194 69.3717 796.481 Q67.242 794.744 63.4226 794.744 L59.3949 794.744 L59.3949 790.902 L63.6078 790.902 Q67.0569 790.902 68.8855 789.536 Q70.7142 788.147 70.7142 785.555 Q70.7142 782.893 68.8161 781.481 Q66.9411 780.045 63.4226 780.045 Q61.5013 780.045 59.3023 780.462 Q57.1032 780.879 54.4643 781.758 L54.4643 777.592 Q57.1264 776.851 59.4412 776.481 Q61.7791 776.11 63.8393 776.11 Q69.1633 776.11 72.2652 778.541 Q75.367 780.948 75.367 785.069 Q75.367 787.939 73.7235 789.93 Q72.08 791.897 69.0476 792.661 Z\" fill=\"#000000\" fill-rule=\"nonzero\" fill-opacity=\"1\" /><path clip-path=\"url(#clip720)\" d=\"M66.5939 563.567 L54.7884 582.016 L66.5939 582.016 L66.5939 563.567 M65.367 559.493 L71.2466 559.493 L71.2466 582.016 L76.1772 582.016 L76.1772 585.904 L71.2466 585.904 L71.2466 594.053 L66.5939 594.053 L66.5939 585.904 L50.9921 585.904 L50.9921 581.391 L65.367 559.493 Z\" fill=\"#000000\" fill-rule=\"nonzero\" fill-opacity=\"1\" /><path clip-path=\"url(#clip720)\" d=\"M55.2745 342.25 L73.6309 342.25 L73.6309 346.185 L59.5569 346.185 L59.5569 354.657 Q60.5754 354.31 61.5939 354.148 Q62.6124 353.963 63.6309 353.963 Q69.418 353.963 72.7976 357.134 Q76.1772 360.305 76.1772 365.722 Q76.1772 371.301 72.705 374.402 Q69.2328 377.481 62.9134 377.481 Q60.7374 377.481 58.4689 377.111 Q56.2236 376.74 53.8162 376 L53.8162 371.301 Q55.8995 372.435 58.1217 372.99 Q60.3439 373.546 62.8208 373.546 Q66.8254 373.546 69.1633 371.439 Q71.5013 369.333 71.5013 365.722 Q71.5013 362.111 69.1633 360.004 Q66.8254 357.898 62.8208 357.898 Q60.9458 357.898 59.0708 358.314 Q57.2189 358.731 55.2745 359.611 L55.2745 342.25 Z\" fill=\"#000000\" fill-rule=\"nonzero\" fill-opacity=\"1\" /><path clip-path=\"url(#clip720)\" d=\"M64.6495 140.424 Q61.5013 140.424 59.6495 142.576 Q57.8208 144.729 57.8208 148.479 Q57.8208 152.206 59.6495 154.382 Q61.5013 156.535 64.6495 156.535 Q67.7976 156.535 69.6263 154.382 Q71.4781 152.206 71.4781 148.479 Q71.4781 144.729 69.6263 142.576 Q67.7976 140.424 64.6495 140.424 M73.9318 125.771 L73.9318 130.03 Q72.1726 129.197 70.367 128.757 Q68.5846 128.317 66.8254 128.317 Q62.1958 128.317 59.7421 131.442 Q57.3115 134.567 56.9643 140.887 Q58.33 138.873 60.3902 137.808 Q62.4504 136.72 64.9272 136.72 Q70.1355 136.72 73.1448 139.891 Q76.1772 143.039 76.1772 148.479 Q76.1772 153.803 73.029 157.021 Q69.8809 160.238 64.6495 160.238 Q58.6541 160.238 55.4828 155.655 Q52.3116 151.048 52.3116 142.322 Q52.3116 134.127 56.2004 129.266 Q60.0893 124.382 66.6402 124.382 Q68.3994 124.382 70.1818 124.729 Q71.9874 125.076 73.9318 125.771 Z\" fill=\"#000000\" fill-rule=\"nonzero\" fill-opacity=\"1\" /><polyline clip-path=\"url(#clip722)\" style=\"stroke:#009af9; stroke-linecap:round; stroke-linejoin:round; stroke-width:4; stroke-opacity:1; fill:none\" points=\"175.59,87.9763 186.501,115.866 197.412,143.466 229.364,222.628 261.316,299.307 293.268,373.504 325.22,445.219 354.948,509.714 384.676,572.061 404.599,612.642 424.523,652.258 444.446,690.91 464.37,728.596 497.295,788.761 530.221,846.292 560.839,897.424 591.457,946.277 629.892,1004.38 668.328,1058.89 702.805,1104.73 737.282,1147.68 757.014,1170.96 776.746,1193.29 796.478,1214.68 816.209,1235.12 845.708,1263.92 875.208,1290.6 912.937,1321.64 950.667,1349.21 985.103,1371.37 1019.54,1390.63 1039.14,1400.31 1058.73,1409.05 1078.33,1416.86 1097.92,1423.74 1128.99,1432.73 1160.06,1439.37 1198.66,1444.35 1237.26,1445.72 1266.82,1444.31 1296.38,1440.78 1317.22,1437.01 1338.06,1432.19 1358.9,1426.31 1379.74,1419.38 1410.88,1407.05 1442.02,1392.36 1477.44,1372.79 1512.86,1350.18 1547.93,1324.77 1583.01,1296.37 1621.6,1261.68 1660.19,1223.36 1689.66,1191.65 1719.14,1157.84 1756.34,1112.15 1793.53,1063.09 1827.94,1014.73 1862.34,963.485 1897.82,907.625 1933.3,848.704 1969.26,785.857 2005.22,719.866 2042.78,647.604 2080.33,571.913 2109.91,509.874 2139.49,445.707 2173.18,370.053 2206.86,291.64 2240.54,210.469 2274.23,126.539 2278.01,116.951 2281.78,107.327 2285.56,97.6691 2289.34,87.9763 \"/>\n",
       "<path clip-path=\"url(#clip720)\" d=\"M2001.58 1438.47 L2278.07 1438.47 L2278.07 1334.79 L2001.58 1334.79  Z\" fill=\"#ffffff\" fill-rule=\"evenodd\" fill-opacity=\"1\"/>\n",
       "<polyline clip-path=\"url(#clip720)\" style=\"stroke:#000000; stroke-linecap:round; stroke-linejoin:round; stroke-width:4; stroke-opacity:1; fill:none\" points=\"2001.58,1438.47 2278.07,1438.47 2278.07,1334.79 2001.58,1334.79 2001.58,1438.47 \"/>\n",
       "<polyline clip-path=\"url(#clip720)\" style=\"stroke:#009af9; stroke-linecap:round; stroke-linejoin:round; stroke-width:4; stroke-opacity:1; fill:none\" points=\"2026.48,1386.63 2175.85,1386.63 \"/>\n",
       "<path clip-path=\"url(#clip720)\" d=\"M2214.59 1406.32 Q2212.78 1410.95 2211.07 1412.36 Q2209.36 1413.78 2206.49 1413.78 L2203.08 1413.78 L2203.08 1410.21 L2205.58 1410.21 Q2207.34 1410.21 2208.31 1409.38 Q2209.29 1408.54 2210.47 1405.44 L2211.23 1403.5 L2200.74 1377.99 L2205.26 1377.99 L2213.36 1398.27 L2221.46 1377.99 L2225.98 1377.99 L2214.59 1406.32 Z\" fill=\"#000000\" fill-rule=\"nonzero\" fill-opacity=\"1\" /><path clip-path=\"url(#clip720)\" d=\"M2233.27 1399.98 L2240.91 1399.98 L2240.91 1373.61 L2232.6 1375.28 L2232.6 1371.02 L2240.86 1369.35 L2245.54 1369.35 L2245.54 1399.98 L2253.17 1399.98 L2253.17 1403.91 L2233.27 1403.91 L2233.27 1399.98 Z\" fill=\"#000000\" fill-rule=\"nonzero\" fill-opacity=\"1\" /></svg>\n"
      ],
      "text/html": [
       "<?xml version=\"1.0\" encoding=\"utf-8\"?>\n",
       "<svg xmlns=\"http://www.w3.org/2000/svg\" xmlns:xlink=\"http://www.w3.org/1999/xlink\" width=\"600\" height=\"400\" viewBox=\"0 0 2400 1600\">\n",
       "<defs>\n",
       "  <clipPath id=\"clip770\">\n",
       "    <rect x=\"0\" y=\"0\" width=\"2400\" height=\"1600\"/>\n",
       "  </clipPath>\n",
       "</defs>\n",
       "<path clip-path=\"url(#clip770)\" d=\"M0 1600 L2400 1600 L2400 8.88178e-14 L0 8.88178e-14  Z\" fill=\"#ffffff\" fill-rule=\"evenodd\" fill-opacity=\"1\"/>\n",
       "<defs>\n",
       "  <clipPath id=\"clip771\">\n",
       "    <rect x=\"480\" y=\"0\" width=\"1681\" height=\"1600\"/>\n",
       "  </clipPath>\n",
       "</defs>\n",
       "<path clip-path=\"url(#clip770)\" d=\"M112.177 1486.45 L2352.76 1486.45 L2352.76 47.2441 L112.177 47.2441  Z\" fill=\"#ffffff\" fill-rule=\"evenodd\" fill-opacity=\"1\"/>\n",
       "<defs>\n",
       "  <clipPath id=\"clip772\">\n",
       "    <rect x=\"112\" y=\"47\" width=\"2242\" height=\"1440\"/>\n",
       "  </clipPath>\n",
       "</defs>\n",
       "<polyline clip-path=\"url(#clip772)\" style=\"stroke:#000000; stroke-linecap:round; stroke-linejoin:round; stroke-width:2; stroke-opacity:0.1; fill:none\" points=\"386.965,1486.45 386.965,47.2441 \"/>\n",
       "<polyline clip-path=\"url(#clip772)\" style=\"stroke:#000000; stroke-linecap:round; stroke-linejoin:round; stroke-width:2; stroke-opacity:0.1; fill:none\" points=\"809.716,1486.45 809.716,47.2441 \"/>\n",
       "<polyline clip-path=\"url(#clip772)\" style=\"stroke:#000000; stroke-linecap:round; stroke-linejoin:round; stroke-width:2; stroke-opacity:0.1; fill:none\" points=\"1232.47,1486.45 1232.47,47.2441 \"/>\n",
       "<polyline clip-path=\"url(#clip772)\" style=\"stroke:#000000; stroke-linecap:round; stroke-linejoin:round; stroke-width:2; stroke-opacity:0.1; fill:none\" points=\"1655.22,1486.45 1655.22,47.2441 \"/>\n",
       "<polyline clip-path=\"url(#clip772)\" style=\"stroke:#000000; stroke-linecap:round; stroke-linejoin:round; stroke-width:2; stroke-opacity:0.1; fill:none\" points=\"2077.97,1486.45 2077.97,47.2441 \"/>\n",
       "<polyline clip-path=\"url(#clip772)\" style=\"stroke:#000000; stroke-linecap:round; stroke-linejoin:round; stroke-width:2; stroke-opacity:0.1; fill:none\" points=\"112.177,1445.74 2352.76,1445.74 \"/>\n",
       "<polyline clip-path=\"url(#clip772)\" style=\"stroke:#000000; stroke-linecap:round; stroke-linejoin:round; stroke-width:2; stroke-opacity:0.1; fill:none\" points=\"112.177,1228.5 2352.76,1228.5 \"/>\n",
       "<polyline clip-path=\"url(#clip772)\" style=\"stroke:#000000; stroke-linecap:round; stroke-linejoin:round; stroke-width:2; stroke-opacity:0.1; fill:none\" points=\"112.177,1011.26 2352.76,1011.26 \"/>\n",
       "<polyline clip-path=\"url(#clip772)\" style=\"stroke:#000000; stroke-linecap:round; stroke-linejoin:round; stroke-width:2; stroke-opacity:0.1; fill:none\" points=\"112.177,794.015 2352.76,794.015 \"/>\n",
       "<polyline clip-path=\"url(#clip772)\" style=\"stroke:#000000; stroke-linecap:round; stroke-linejoin:round; stroke-width:2; stroke-opacity:0.1; fill:none\" points=\"112.177,576.773 2352.76,576.773 \"/>\n",
       "<polyline clip-path=\"url(#clip772)\" style=\"stroke:#000000; stroke-linecap:round; stroke-linejoin:round; stroke-width:2; stroke-opacity:0.1; fill:none\" points=\"112.177,359.53 2352.76,359.53 \"/>\n",
       "<polyline clip-path=\"url(#clip772)\" style=\"stroke:#000000; stroke-linecap:round; stroke-linejoin:round; stroke-width:2; stroke-opacity:0.1; fill:none\" points=\"112.177,142.287 2352.76,142.287 \"/>\n",
       "<polyline clip-path=\"url(#clip770)\" style=\"stroke:#000000; stroke-linecap:round; stroke-linejoin:round; stroke-width:4; stroke-opacity:1; fill:none\" points=\"112.177,1486.45 2352.76,1486.45 \"/>\n",
       "<polyline clip-path=\"url(#clip770)\" style=\"stroke:#000000; stroke-linecap:round; stroke-linejoin:round; stroke-width:4; stroke-opacity:1; fill:none\" points=\"386.965,1486.45 386.965,1467.55 \"/>\n",
       "<polyline clip-path=\"url(#clip770)\" style=\"stroke:#000000; stroke-linecap:round; stroke-linejoin:round; stroke-width:4; stroke-opacity:1; fill:none\" points=\"809.716,1486.45 809.716,1467.55 \"/>\n",
       "<polyline clip-path=\"url(#clip770)\" style=\"stroke:#000000; stroke-linecap:round; stroke-linejoin:round; stroke-width:4; stroke-opacity:1; fill:none\" points=\"1232.47,1486.45 1232.47,1467.55 \"/>\n",
       "<polyline clip-path=\"url(#clip770)\" style=\"stroke:#000000; stroke-linecap:round; stroke-linejoin:round; stroke-width:4; stroke-opacity:1; fill:none\" points=\"1655.22,1486.45 1655.22,1467.55 \"/>\n",
       "<polyline clip-path=\"url(#clip770)\" style=\"stroke:#000000; stroke-linecap:round; stroke-linejoin:round; stroke-width:4; stroke-opacity:1; fill:none\" points=\"2077.97,1486.45 2077.97,1467.55 \"/>\n",
       "<path clip-path=\"url(#clip770)\" d=\"M355.866 1532.02 L385.542 1532.02 L385.542 1535.95 L355.866 1535.95 L355.866 1532.02 Z\" fill=\"#000000\" fill-rule=\"nonzero\" fill-opacity=\"1\" /><path clip-path=\"url(#clip770)\" d=\"M408.481 1518.36 L396.676 1536.81 L408.481 1536.81 L408.481 1518.36 M407.254 1514.29 L413.134 1514.29 L413.134 1536.81 L418.065 1536.81 L418.065 1540.7 L413.134 1540.7 L413.134 1548.85 L408.481 1548.85 L408.481 1540.7 L392.879 1540.7 L392.879 1536.19 L407.254 1514.29 Z\" fill=\"#000000\" fill-rule=\"nonzero\" fill-opacity=\"1\" /><path clip-path=\"url(#clip770)\" d=\"M779.658 1532.02 L809.334 1532.02 L809.334 1535.95 L779.658 1535.95 L779.658 1532.02 Z\" fill=\"#000000\" fill-rule=\"nonzero\" fill-opacity=\"1\" /><path clip-path=\"url(#clip770)\" d=\"M823.454 1544.91 L839.774 1544.91 L839.774 1548.85 L817.829 1548.85 L817.829 1544.91 Q820.491 1542.16 825.075 1537.53 Q829.681 1532.88 830.862 1531.53 Q833.107 1529.01 833.987 1527.27 Q834.889 1525.51 834.889 1523.82 Q834.889 1521.07 832.945 1519.33 Q831.024 1517.6 827.922 1517.6 Q825.723 1517.6 823.269 1518.36 Q820.838 1519.13 818.061 1520.68 L818.061 1515.95 Q820.885 1514.82 823.338 1514.24 Q825.792 1513.66 827.829 1513.66 Q833.2 1513.66 836.394 1516.35 Q839.588 1519.03 839.588 1523.52 Q839.588 1525.65 838.778 1527.57 Q837.991 1529.47 835.885 1532.07 Q835.306 1532.74 832.204 1535.95 Q829.102 1539.15 823.454 1544.91 Z\" fill=\"#000000\" fill-rule=\"nonzero\" fill-opacity=\"1\" /><path clip-path=\"url(#clip770)\" d=\"M1232.47 1517.37 Q1228.86 1517.37 1227.03 1520.93 Q1225.22 1524.47 1225.22 1531.6 Q1225.22 1538.71 1227.03 1542.27 Q1228.86 1545.82 1232.47 1545.82 Q1236.1 1545.82 1237.91 1542.27 Q1239.74 1538.71 1239.74 1531.6 Q1239.74 1524.47 1237.91 1520.93 Q1236.1 1517.37 1232.47 1517.37 M1232.47 1513.66 Q1238.28 1513.66 1241.33 1518.27 Q1244.41 1522.85 1244.41 1531.6 Q1244.41 1540.33 1241.33 1544.94 Q1238.28 1549.52 1232.47 1549.52 Q1226.66 1549.52 1223.58 1544.94 Q1220.52 1540.33 1220.52 1531.6 Q1220.52 1522.85 1223.58 1518.27 Q1226.66 1513.66 1232.47 1513.66 Z\" fill=\"#000000\" fill-rule=\"nonzero\" fill-opacity=\"1\" /><path clip-path=\"url(#clip770)\" d=\"M1649.87 1544.91 L1666.19 1544.91 L1666.19 1548.85 L1644.25 1548.85 L1644.25 1544.91 Q1646.91 1542.16 1651.49 1537.53 Q1656.1 1532.88 1657.28 1531.53 Q1659.52 1529.01 1660.4 1527.27 Q1661.31 1525.51 1661.31 1523.82 Q1661.31 1521.07 1659.36 1519.33 Q1657.44 1517.6 1654.34 1517.6 Q1652.14 1517.6 1649.68 1518.36 Q1647.25 1519.13 1644.48 1520.68 L1644.48 1515.95 Q1647.3 1514.82 1649.75 1514.24 Q1652.21 1513.66 1654.25 1513.66 Q1659.62 1513.66 1662.81 1516.35 Q1666 1519.03 1666 1523.52 Q1666 1525.65 1665.19 1527.57 Q1664.41 1529.47 1662.3 1532.07 Q1661.72 1532.74 1658.62 1535.95 Q1655.52 1539.15 1649.87 1544.91 Z\" fill=\"#000000\" fill-rule=\"nonzero\" fill-opacity=\"1\" /><path clip-path=\"url(#clip770)\" d=\"M2080.98 1518.36 L2069.17 1536.81 L2080.98 1536.81 L2080.98 1518.36 M2079.75 1514.29 L2085.63 1514.29 L2085.63 1536.81 L2090.56 1536.81 L2090.56 1540.7 L2085.63 1540.7 L2085.63 1548.85 L2080.98 1548.85 L2080.98 1540.7 L2065.38 1540.7 L2065.38 1536.19 L2079.75 1514.29 Z\" fill=\"#000000\" fill-rule=\"nonzero\" fill-opacity=\"1\" /><polyline clip-path=\"url(#clip770)\" style=\"stroke:#000000; stroke-linecap:round; stroke-linejoin:round; stroke-width:4; stroke-opacity:1; fill:none\" points=\"112.177,1486.45 112.177,47.2441 \"/>\n",
       "<polyline clip-path=\"url(#clip770)\" style=\"stroke:#000000; stroke-linecap:round; stroke-linejoin:round; stroke-width:4; stroke-opacity:1; fill:none\" points=\"112.177,1445.74 131.075,1445.74 \"/>\n",
       "<polyline clip-path=\"url(#clip770)\" style=\"stroke:#000000; stroke-linecap:round; stroke-linejoin:round; stroke-width:4; stroke-opacity:1; fill:none\" points=\"112.177,1228.5 131.075,1228.5 \"/>\n",
       "<polyline clip-path=\"url(#clip770)\" style=\"stroke:#000000; stroke-linecap:round; stroke-linejoin:round; stroke-width:4; stroke-opacity:1; fill:none\" points=\"112.177,1011.26 131.075,1011.26 \"/>\n",
       "<polyline clip-path=\"url(#clip770)\" style=\"stroke:#000000; stroke-linecap:round; stroke-linejoin:round; stroke-width:4; stroke-opacity:1; fill:none\" points=\"112.177,794.015 131.075,794.015 \"/>\n",
       "<polyline clip-path=\"url(#clip770)\" style=\"stroke:#000000; stroke-linecap:round; stroke-linejoin:round; stroke-width:4; stroke-opacity:1; fill:none\" points=\"112.177,576.773 131.075,576.773 \"/>\n",
       "<polyline clip-path=\"url(#clip770)\" style=\"stroke:#000000; stroke-linecap:round; stroke-linejoin:round; stroke-width:4; stroke-opacity:1; fill:none\" points=\"112.177,359.53 131.075,359.53 \"/>\n",
       "<polyline clip-path=\"url(#clip770)\" style=\"stroke:#000000; stroke-linecap:round; stroke-linejoin:round; stroke-width:4; stroke-opacity:1; fill:none\" points=\"112.177,142.287 131.075,142.287 \"/>\n",
       "<path clip-path=\"url(#clip770)\" d=\"M64.2328 1431.54 Q60.6217 1431.54 58.793 1435.11 Q56.9875 1438.65 56.9875 1445.78 Q56.9875 1452.88 58.793 1456.45 Q60.6217 1459.99 64.2328 1459.99 Q67.867 1459.99 69.6726 1456.45 Q71.5013 1452.88 71.5013 1445.78 Q71.5013 1438.65 69.6726 1435.11 Q67.867 1431.54 64.2328 1431.54 M64.2328 1427.84 Q70.0429 1427.84 73.0985 1432.45 Q76.1772 1437.03 76.1772 1445.78 Q76.1772 1454.51 73.0985 1459.11 Q70.0429 1463.69 64.2328 1463.69 Q58.4226 1463.69 55.344 1459.11 Q52.2884 1454.51 52.2884 1445.78 Q52.2884 1437.03 55.344 1432.45 Q58.4226 1427.84 64.2328 1427.84 Z\" fill=\"#000000\" fill-rule=\"nonzero\" fill-opacity=\"1\" /><path clip-path=\"url(#clip770)\" d=\"M56.2699 1241.85 L63.9087 1241.85 L63.9087 1215.48 L55.5986 1217.15 L55.5986 1212.89 L63.8624 1211.22 L68.5383 1211.22 L68.5383 1241.85 L76.1772 1241.85 L76.1772 1245.78 L56.2699 1245.78 L56.2699 1241.85 Z\" fill=\"#000000\" fill-rule=\"nonzero\" fill-opacity=\"1\" /><path clip-path=\"url(#clip770)\" d=\"M59.8578 1024.6 L76.1772 1024.6 L76.1772 1028.54 L54.2328 1028.54 L54.2328 1024.6 Q56.8949 1021.85 61.4782 1017.22 Q66.0846 1012.57 67.2652 1011.22 Q69.5105 1008.7 70.3902 1006.96 Q71.2929 1005.2 71.2929 1003.52 Q71.2929 1000.76 69.3485 999.024 Q67.4272 997.288 64.3254 997.288 Q62.1263 997.288 59.6726 998.052 Q57.2421 998.816 54.4643 1000.37 L54.4643 995.645 Q57.2884 994.51 59.7421 993.932 Q62.1958 993.353 64.2328 993.353 Q69.6031 993.353 72.7976 996.038 Q75.992 998.723 75.992 1003.21 Q75.992 1005.34 75.1818 1007.27 Q74.3948 1009.16 72.2883 1011.76 Q71.7096 1012.43 68.6078 1015.64 Q65.5059 1018.84 59.8578 1024.6 Z\" fill=\"#000000\" fill-rule=\"nonzero\" fill-opacity=\"1\" /><path clip-path=\"url(#clip770)\" d=\"M69.0476 792.661 Q72.404 793.379 74.279 795.647 Q76.1772 797.916 76.1772 801.249 Q76.1772 806.365 72.6587 809.166 Q69.1402 811.967 62.6587 811.967 Q60.4828 811.967 58.168 811.527 Q55.8764 811.11 53.4227 810.254 L53.4227 805.74 Q55.3671 806.874 57.6819 807.453 Q59.9967 808.031 62.5198 808.031 Q66.918 808.031 69.2096 806.295 Q71.5244 804.559 71.5244 801.249 Q71.5244 798.194 69.3717 796.481 Q67.242 794.744 63.4226 794.744 L59.3949 794.744 L59.3949 790.902 L63.6078 790.902 Q67.0569 790.902 68.8855 789.536 Q70.7142 788.147 70.7142 785.555 Q70.7142 782.893 68.8161 781.481 Q66.9411 780.045 63.4226 780.045 Q61.5013 780.045 59.3023 780.462 Q57.1032 780.879 54.4643 781.758 L54.4643 777.592 Q57.1264 776.851 59.4412 776.481 Q61.7791 776.11 63.8393 776.11 Q69.1633 776.11 72.2652 778.541 Q75.367 780.948 75.367 785.069 Q75.367 787.939 73.7235 789.93 Q72.08 791.897 69.0476 792.661 Z\" fill=\"#000000\" fill-rule=\"nonzero\" fill-opacity=\"1\" /><path clip-path=\"url(#clip770)\" d=\"M66.5939 563.567 L54.7884 582.016 L66.5939 582.016 L66.5939 563.567 M65.367 559.493 L71.2466 559.493 L71.2466 582.016 L76.1772 582.016 L76.1772 585.904 L71.2466 585.904 L71.2466 594.053 L66.5939 594.053 L66.5939 585.904 L50.9921 585.904 L50.9921 581.391 L65.367 559.493 Z\" fill=\"#000000\" fill-rule=\"nonzero\" fill-opacity=\"1\" /><path clip-path=\"url(#clip770)\" d=\"M55.2745 342.25 L73.6309 342.25 L73.6309 346.185 L59.5569 346.185 L59.5569 354.657 Q60.5754 354.31 61.5939 354.148 Q62.6124 353.963 63.6309 353.963 Q69.418 353.963 72.7976 357.134 Q76.1772 360.305 76.1772 365.722 Q76.1772 371.301 72.705 374.402 Q69.2328 377.481 62.9134 377.481 Q60.7374 377.481 58.4689 377.111 Q56.2236 376.74 53.8162 376 L53.8162 371.301 Q55.8995 372.435 58.1217 372.99 Q60.3439 373.546 62.8208 373.546 Q66.8254 373.546 69.1633 371.439 Q71.5013 369.333 71.5013 365.722 Q71.5013 362.111 69.1633 360.004 Q66.8254 357.898 62.8208 357.898 Q60.9458 357.898 59.0708 358.314 Q57.2189 358.731 55.2745 359.611 L55.2745 342.25 Z\" fill=\"#000000\" fill-rule=\"nonzero\" fill-opacity=\"1\" /><path clip-path=\"url(#clip770)\" d=\"M64.6495 140.424 Q61.5013 140.424 59.6495 142.576 Q57.8208 144.729 57.8208 148.479 Q57.8208 152.206 59.6495 154.382 Q61.5013 156.535 64.6495 156.535 Q67.7976 156.535 69.6263 154.382 Q71.4781 152.206 71.4781 148.479 Q71.4781 144.729 69.6263 142.576 Q67.7976 140.424 64.6495 140.424 M73.9318 125.771 L73.9318 130.03 Q72.1726 129.197 70.367 128.757 Q68.5846 128.317 66.8254 128.317 Q62.1958 128.317 59.7421 131.442 Q57.3115 134.567 56.9643 140.887 Q58.33 138.873 60.3902 137.808 Q62.4504 136.72 64.9272 136.72 Q70.1355 136.72 73.1448 139.891 Q76.1772 143.039 76.1772 148.479 Q76.1772 153.803 73.029 157.021 Q69.8809 160.238 64.6495 160.238 Q58.6541 160.238 55.4828 155.655 Q52.3116 151.048 52.3116 142.322 Q52.3116 134.127 56.2004 129.266 Q60.0893 124.382 66.6402 124.382 Q68.3994 124.382 70.1818 124.729 Q71.9874 125.076 73.9318 125.771 Z\" fill=\"#000000\" fill-rule=\"nonzero\" fill-opacity=\"1\" /><polyline clip-path=\"url(#clip772)\" style=\"stroke:#009af9; stroke-linecap:round; stroke-linejoin:round; stroke-width:4; stroke-opacity:1; fill:none\" points=\"175.59,87.9763 186.501,115.866 197.412,143.466 229.364,222.628 261.316,299.307 293.268,373.504 325.22,445.219 354.948,509.714 384.676,572.061 404.599,612.642 424.523,652.258 444.446,690.91 464.37,728.596 497.295,788.761 530.221,846.292 560.839,897.424 591.457,946.277 629.892,1004.38 668.328,1058.89 702.805,1104.73 737.282,1147.68 757.014,1170.96 776.746,1193.29 796.478,1214.68 816.209,1235.12 845.708,1263.92 875.208,1290.6 912.937,1321.64 950.667,1349.21 985.103,1371.37 1019.54,1390.63 1039.14,1400.31 1058.73,1409.05 1078.33,1416.86 1097.92,1423.74 1128.99,1432.73 1160.06,1439.37 1198.66,1444.35 1237.26,1445.72 1266.82,1444.31 1296.38,1440.78 1317.22,1437.01 1338.06,1432.19 1358.9,1426.31 1379.74,1419.38 1410.88,1407.05 1442.02,1392.36 1477.44,1372.79 1512.86,1350.18 1547.93,1324.77 1583.01,1296.37 1621.6,1261.68 1660.19,1223.36 1689.66,1191.65 1719.14,1157.84 1756.34,1112.15 1793.53,1063.09 1827.94,1014.73 1862.34,963.485 1897.82,907.625 1933.3,848.704 1969.26,785.857 2005.22,719.866 2042.78,647.604 2080.33,571.913 2109.91,509.874 2139.49,445.707 2173.18,370.053 2206.86,291.64 2240.54,210.469 2274.23,126.539 2278.01,116.951 2281.78,107.327 2285.56,97.6691 2289.34,87.9763 \"/>\n",
       "<path clip-path=\"url(#clip770)\" d=\"M2001.58 1438.47 L2278.07 1438.47 L2278.07 1334.79 L2001.58 1334.79  Z\" fill=\"#ffffff\" fill-rule=\"evenodd\" fill-opacity=\"1\"/>\n",
       "<polyline clip-path=\"url(#clip770)\" style=\"stroke:#000000; stroke-linecap:round; stroke-linejoin:round; stroke-width:4; stroke-opacity:1; fill:none\" points=\"2001.58,1438.47 2278.07,1438.47 2278.07,1334.79 2001.58,1334.79 2001.58,1438.47 \"/>\n",
       "<polyline clip-path=\"url(#clip770)\" style=\"stroke:#009af9; stroke-linecap:round; stroke-linejoin:round; stroke-width:4; stroke-opacity:1; fill:none\" points=\"2026.48,1386.63 2175.85,1386.63 \"/>\n",
       "<path clip-path=\"url(#clip770)\" d=\"M2214.59 1406.32 Q2212.78 1410.95 2211.07 1412.36 Q2209.36 1413.78 2206.49 1413.78 L2203.08 1413.78 L2203.08 1410.21 L2205.58 1410.21 Q2207.34 1410.21 2208.31 1409.38 Q2209.29 1408.54 2210.47 1405.44 L2211.23 1403.5 L2200.74 1377.99 L2205.26 1377.99 L2213.36 1398.27 L2221.46 1377.99 L2225.98 1377.99 L2214.59 1406.32 Z\" fill=\"#000000\" fill-rule=\"nonzero\" fill-opacity=\"1\" /><path clip-path=\"url(#clip770)\" d=\"M2233.27 1399.98 L2240.91 1399.98 L2240.91 1373.61 L2232.6 1375.28 L2232.6 1371.02 L2240.86 1369.35 L2245.54 1369.35 L2245.54 1399.98 L2253.17 1399.98 L2253.17 1403.91 L2233.27 1403.91 L2233.27 1399.98 Z\" fill=\"#000000\" fill-rule=\"nonzero\" fill-opacity=\"1\" /></svg>\n"
      ]
     },
     "metadata": {},
     "output_type": "display_data"
    }
   ],
   "source": [
    "@variables x \n",
    "y = (1/4)*x^2\n",
    "println(substitute(y, x=>1))\n",
    "println(substitute(y, x=>2))\n",
    "#fx(x) = eval(build_function(y,x))\n",
    "plot(y)"
   ]
  },
  {
   "cell_type": "code",
   "execution_count": 4,
   "metadata": {},
   "outputs": [
    {
     "name": "stdout",
     "output_type": "stream",
     "text": [
      "2(x^2)\n"
     ]
    }
   ],
   "source": [
    "@variables x a n\n",
    "y = a*x^n\n",
    "println(substitute(y, Dict(a=>2, n=>2)),)"
   ]
  },
  {
   "cell_type": "code",
   "execution_count": 14,
   "metadata": {},
   "outputs": [
    {
     "data": {
      "image/png": "[encoded data removed]",
      "image/svg+xml": [
       "<?xml version=\"1.0\" encoding=\"utf-8\"?>\n",
       "<svg xmlns=\"http://www.w3.org/2000/svg\" xmlns:xlink=\"http://www.w3.org/1999/xlink\" width=\"600\" height=\"400\" viewBox=\"0 0 2400 1600\">\n",
       "<defs>\n",
       "  <clipPath id=\"clip860\">\n",
       "    <rect x=\"0\" y=\"0\" width=\"2400\" height=\"1600\"/>\n",
       "  </clipPath>\n",
       "</defs>\n",
       "<path clip-path=\"url(#clip860)\" d=\"M0 1600 L2400 1600 L2400 8.88178e-14 L0 8.88178e-14  Z\" fill=\"#ffffff\" fill-rule=\"evenodd\" fill-opacity=\"1\"/>\n",
       "<defs>\n",
       "  <clipPath id=\"clip861\">\n",
       "    <rect x=\"480\" y=\"0\" width=\"1681\" height=\"1600\"/>\n",
       "  </clipPath>\n",
       "</defs>\n",
       "<path clip-path=\"url(#clip860)\" d=\"M149.191 1486.45 L2352.76 1486.45 L2352.76 123.472 L149.191 123.472  Z\" fill=\"#ffffff\" fill-rule=\"evenodd\" fill-opacity=\"1\"/>\n",
       "<defs>\n",
       "  <clipPath id=\"clip862\">\n",
       "    <rect x=\"149\" y=\"123\" width=\"2205\" height=\"1364\"/>\n",
       "  </clipPath>\n",
       "</defs>\n",
       "<polyline clip-path=\"url(#clip862)\" style=\"stroke:#000000; stroke-linecap:round; stroke-linejoin:round; stroke-width:2; stroke-opacity:0.1; fill:none\" points=\"419.439,1486.45 419.439,123.472 \"/>\n",
       "<polyline clip-path=\"url(#clip862)\" style=\"stroke:#000000; stroke-linecap:round; stroke-linejoin:round; stroke-width:2; stroke-opacity:0.1; fill:none\" points=\"835.206,1486.45 835.206,123.472 \"/>\n",
       "<polyline clip-path=\"url(#clip862)\" style=\"stroke:#000000; stroke-linecap:round; stroke-linejoin:round; stroke-width:2; stroke-opacity:0.1; fill:none\" points=\"1250.97,1486.45 1250.97,123.472 \"/>\n",
       "<polyline clip-path=\"url(#clip862)\" style=\"stroke:#000000; stroke-linecap:round; stroke-linejoin:round; stroke-width:2; stroke-opacity:0.1; fill:none\" points=\"1666.74,1486.45 1666.74,123.472 \"/>\n",
       "<polyline clip-path=\"url(#clip862)\" style=\"stroke:#000000; stroke-linecap:round; stroke-linejoin:round; stroke-width:2; stroke-opacity:0.1; fill:none\" points=\"2082.51,1486.45 2082.51,123.472 \"/>\n",
       "<polyline clip-path=\"url(#clip862)\" style=\"stroke:#000000; stroke-linecap:round; stroke-linejoin:round; stroke-width:2; stroke-opacity:0.1; fill:none\" points=\"149.191,1396.44 2352.76,1396.44 \"/>\n",
       "<polyline clip-path=\"url(#clip862)\" style=\"stroke:#000000; stroke-linecap:round; stroke-linejoin:round; stroke-width:2; stroke-opacity:0.1; fill:none\" points=\"149.191,1190.7 2352.76,1190.7 \"/>\n",
       "<polyline clip-path=\"url(#clip862)\" style=\"stroke:#000000; stroke-linecap:round; stroke-linejoin:round; stroke-width:2; stroke-opacity:0.1; fill:none\" points=\"149.191,984.966 2352.76,984.966 \"/>\n",
       "<polyline clip-path=\"url(#clip862)\" style=\"stroke:#000000; stroke-linecap:round; stroke-linejoin:round; stroke-width:2; stroke-opacity:0.1; fill:none\" points=\"149.191,779.23 2352.76,779.23 \"/>\n",
       "<polyline clip-path=\"url(#clip862)\" style=\"stroke:#000000; stroke-linecap:round; stroke-linejoin:round; stroke-width:2; stroke-opacity:0.1; fill:none\" points=\"149.191,573.493 2352.76,573.493 \"/>\n",
       "<polyline clip-path=\"url(#clip862)\" style=\"stroke:#000000; stroke-linecap:round; stroke-linejoin:round; stroke-width:2; stroke-opacity:0.1; fill:none\" points=\"149.191,367.757 2352.76,367.757 \"/>\n",
       "<polyline clip-path=\"url(#clip862)\" style=\"stroke:#000000; stroke-linecap:round; stroke-linejoin:round; stroke-width:2; stroke-opacity:0.1; fill:none\" points=\"149.191,162.02 2352.76,162.02 \"/>\n",
       "<polyline clip-path=\"url(#clip860)\" style=\"stroke:#000000; stroke-linecap:round; stroke-linejoin:round; stroke-width:4; stroke-opacity:1; fill:none\" points=\"149.191,1486.45 2352.76,1486.45 \"/>\n",
       "<polyline clip-path=\"url(#clip860)\" style=\"stroke:#000000; stroke-linecap:round; stroke-linejoin:round; stroke-width:4; stroke-opacity:1; fill:none\" points=\"419.439,1486.45 419.439,1467.55 \"/>\n",
       "<polyline clip-path=\"url(#clip860)\" style=\"stroke:#000000; stroke-linecap:round; stroke-linejoin:round; stroke-width:4; stroke-opacity:1; fill:none\" points=\"835.206,1486.45 835.206,1467.55 \"/>\n",
       "<polyline clip-path=\"url(#clip860)\" style=\"stroke:#000000; stroke-linecap:round; stroke-linejoin:round; stroke-width:4; stroke-opacity:1; fill:none\" points=\"1250.97,1486.45 1250.97,1467.55 \"/>\n",
       "<polyline clip-path=\"url(#clip860)\" style=\"stroke:#000000; stroke-linecap:round; stroke-linejoin:round; stroke-width:4; stroke-opacity:1; fill:none\" points=\"1666.74,1486.45 1666.74,1467.55 \"/>\n",
       "<polyline clip-path=\"url(#clip860)\" style=\"stroke:#000000; stroke-linecap:round; stroke-linejoin:round; stroke-width:4; stroke-opacity:1; fill:none\" points=\"2082.51,1486.45 2082.51,1467.55 \"/>\n",
       "<path clip-path=\"url(#clip860)\" d=\"M388.34 1532.02 L418.016 1532.02 L418.016 1535.95 L388.34 1535.95 L388.34 1532.02 Z\" fill=\"#000000\" fill-rule=\"nonzero\" fill-opacity=\"1\" /><path clip-path=\"url(#clip860)\" d=\"M440.955 1518.36 L429.15 1536.81 L440.955 1536.81 L440.955 1518.36 M439.729 1514.29 L445.608 1514.29 L445.608 1536.81 L450.539 1536.81 L450.539 1540.7 L445.608 1540.7 L445.608 1548.85 L440.955 1548.85 L440.955 1540.7 L425.354 1540.7 L425.354 1536.19 L439.729 1514.29 Z\" fill=\"#000000\" fill-rule=\"nonzero\" fill-opacity=\"1\" /><path clip-path=\"url(#clip860)\" d=\"M805.149 1532.02 L834.824 1532.02 L834.824 1535.95 L805.149 1535.95 L805.149 1532.02 Z\" fill=\"#000000\" fill-rule=\"nonzero\" fill-opacity=\"1\" /><path clip-path=\"url(#clip860)\" d=\"M848.945 1544.91 L865.264 1544.91 L865.264 1548.85 L843.32 1548.85 L843.32 1544.91 Q845.982 1542.16 850.565 1537.53 Q855.172 1532.88 856.352 1531.53 Q858.597 1529.01 859.477 1527.27 Q860.38 1525.51 860.38 1523.82 Q860.38 1521.07 858.435 1519.33 Q856.514 1517.6 853.412 1517.6 Q851.213 1517.6 848.76 1518.36 Q846.329 1519.13 843.551 1520.68 L843.551 1515.95 Q846.375 1514.82 848.829 1514.24 Q851.283 1513.66 853.32 1513.66 Q858.69 1513.66 861.884 1516.35 Q865.079 1519.03 865.079 1523.52 Q865.079 1525.65 864.269 1527.57 Q863.482 1529.47 861.375 1532.07 Q860.797 1532.74 857.695 1535.95 Q854.593 1539.15 848.945 1544.91 Z\" fill=\"#000000\" fill-rule=\"nonzero\" fill-opacity=\"1\" /><path clip-path=\"url(#clip860)\" d=\"M1250.97 1517.37 Q1247.36 1517.37 1245.53 1520.93 Q1243.73 1524.47 1243.73 1531.6 Q1243.73 1538.71 1245.53 1542.27 Q1247.36 1545.82 1250.97 1545.82 Q1254.61 1545.82 1256.41 1542.27 Q1258.24 1538.71 1258.24 1531.6 Q1258.24 1524.47 1256.41 1520.93 Q1254.61 1517.37 1250.97 1517.37 M1250.97 1513.66 Q1256.78 1513.66 1259.84 1518.27 Q1262.92 1522.85 1262.92 1531.6 Q1262.92 1540.33 1259.84 1544.94 Q1256.78 1549.52 1250.97 1549.52 Q1245.16 1549.52 1242.08 1544.94 Q1239.03 1540.33 1239.03 1531.6 Q1239.03 1522.85 1242.08 1518.27 Q1245.16 1513.66 1250.97 1513.66 Z\" fill=\"#000000\" fill-rule=\"nonzero\" fill-opacity=\"1\" /><path clip-path=\"url(#clip860)\" d=\"M1661.39 1544.91 L1677.71 1544.91 L1677.71 1548.85 L1655.77 1548.85 L1655.77 1544.91 Q1658.43 1542.16 1663.01 1537.53 Q1667.62 1532.88 1668.8 1531.53 Q1671.05 1529.01 1671.93 1527.27 Q1672.83 1525.51 1672.83 1523.82 Q1672.83 1521.07 1670.88 1519.33 Q1668.96 1517.6 1665.86 1517.6 Q1663.66 1517.6 1661.21 1518.36 Q1658.78 1519.13 1656 1520.68 L1656 1515.95 Q1658.82 1514.82 1661.28 1514.24 Q1663.73 1513.66 1665.77 1513.66 Q1671.14 1513.66 1674.33 1516.35 Q1677.53 1519.03 1677.53 1523.52 Q1677.53 1525.65 1676.72 1527.57 Q1675.93 1529.47 1673.82 1532.07 Q1673.24 1532.74 1670.14 1535.95 Q1667.04 1539.15 1661.39 1544.91 Z\" fill=\"#000000\" fill-rule=\"nonzero\" fill-opacity=\"1\" /><path clip-path=\"url(#clip860)\" d=\"M2085.52 1518.36 L2073.71 1536.81 L2085.52 1536.81 L2085.52 1518.36 M2084.29 1514.29 L2090.17 1514.29 L2090.17 1536.81 L2095.1 1536.81 L2095.1 1540.7 L2090.17 1540.7 L2090.17 1548.85 L2085.52 1548.85 L2085.52 1540.7 L2069.91 1540.7 L2069.91 1536.19 L2084.29 1514.29 Z\" fill=\"#000000\" fill-rule=\"nonzero\" fill-opacity=\"1\" /><polyline clip-path=\"url(#clip860)\" style=\"stroke:#000000; stroke-linecap:round; stroke-linejoin:round; stroke-width:4; stroke-opacity:1; fill:none\" points=\"149.191,1486.45 149.191,123.472 \"/>\n",
       "<polyline clip-path=\"url(#clip860)\" style=\"stroke:#000000; stroke-linecap:round; stroke-linejoin:round; stroke-width:4; stroke-opacity:1; fill:none\" points=\"149.191,1396.44 168.089,1396.44 \"/>\n",
       "<polyline clip-path=\"url(#clip860)\" style=\"stroke:#000000; stroke-linecap:round; stroke-linejoin:round; stroke-width:4; stroke-opacity:1; fill:none\" points=\"149.191,1190.7 168.089,1190.7 \"/>\n",
       "<polyline clip-path=\"url(#clip860)\" style=\"stroke:#000000; stroke-linecap:round; stroke-linejoin:round; stroke-width:4; stroke-opacity:1; fill:none\" points=\"149.191,984.966 168.089,984.966 \"/>\n",
       "<polyline clip-path=\"url(#clip860)\" style=\"stroke:#000000; stroke-linecap:round; stroke-linejoin:round; stroke-width:4; stroke-opacity:1; fill:none\" points=\"149.191,779.23 168.089,779.23 \"/>\n",
       "<polyline clip-path=\"url(#clip860)\" style=\"stroke:#000000; stroke-linecap:round; stroke-linejoin:round; stroke-width:4; stroke-opacity:1; fill:none\" points=\"149.191,573.493 168.089,573.493 \"/>\n",
       "<polyline clip-path=\"url(#clip860)\" style=\"stroke:#000000; stroke-linecap:round; stroke-linejoin:round; stroke-width:4; stroke-opacity:1; fill:none\" points=\"149.191,367.757 168.089,367.757 \"/>\n",
       "<polyline clip-path=\"url(#clip860)\" style=\"stroke:#000000; stroke-linecap:round; stroke-linejoin:round; stroke-width:4; stroke-opacity:1; fill:none\" points=\"149.191,162.02 168.089,162.02 \"/>\n",
       "<path clip-path=\"url(#clip860)\" d=\"M51.3162 1396.89 L80.992 1396.89 L80.992 1400.83 L51.3162 1400.83 L51.3162 1396.89 Z\" fill=\"#000000\" fill-rule=\"nonzero\" fill-opacity=\"1\" /><path clip-path=\"url(#clip860)\" d=\"M101.663 1394.58 Q98.515 1394.58 96.6632 1396.73 Q94.8345 1398.88 94.8345 1402.63 Q94.8345 1406.36 96.6632 1408.53 Q98.515 1410.69 101.663 1410.69 Q104.811 1410.69 106.64 1408.53 Q108.492 1406.36 108.492 1402.63 Q108.492 1398.88 106.64 1396.73 Q104.811 1394.58 101.663 1394.58 M110.946 1379.92 L110.946 1384.18 Q109.186 1383.35 107.381 1382.91 Q105.598 1382.47 103.839 1382.47 Q99.2095 1382.47 96.7558 1385.59 Q94.3252 1388.72 93.978 1395.04 Q95.3437 1393.02 97.4039 1391.96 Q99.4641 1390.87 101.941 1390.87 Q107.149 1390.87 110.158 1394.04 Q113.191 1397.19 113.191 1402.63 Q113.191 1407.96 110.043 1411.17 Q106.895 1414.39 101.663 1414.39 Q95.6678 1414.39 92.4965 1409.81 Q89.3253 1405.2 89.3253 1396.47 Q89.3253 1388.28 93.2141 1383.42 Q97.103 1378.53 103.654 1378.53 Q105.413 1378.53 107.196 1378.88 Q109.001 1379.23 110.946 1379.92 Z\" fill=\"#000000\" fill-rule=\"nonzero\" fill-opacity=\"1\" /><path clip-path=\"url(#clip860)\" d=\"M52.4736 1191.15 L82.1494 1191.15 L82.1494 1195.09 L52.4736 1195.09 L52.4736 1191.15 Z\" fill=\"#000000\" fill-rule=\"nonzero\" fill-opacity=\"1\" /><path clip-path=\"url(#clip860)\" d=\"M92.2882 1173.42 L110.645 1173.42 L110.645 1177.36 L96.5706 1177.36 L96.5706 1185.83 Q97.5891 1185.48 98.6076 1185.32 Q99.6261 1185.14 100.645 1185.14 Q106.432 1185.14 109.811 1188.31 Q113.191 1191.48 113.191 1196.89 Q113.191 1202.47 109.719 1205.58 Q106.246 1208.65 99.927 1208.65 Q97.7511 1208.65 95.4826 1208.28 Q93.2373 1207.91 90.8299 1207.17 L90.8299 1202.47 Q92.9132 1203.61 95.1354 1204.16 Q97.3576 1204.72 99.8345 1204.72 Q103.839 1204.72 106.177 1202.61 Q108.515 1200.51 108.515 1196.89 Q108.515 1193.28 106.177 1191.18 Q103.839 1189.07 99.8345 1189.07 Q97.9595 1189.07 96.0845 1189.49 Q94.2326 1189.9 92.2882 1190.78 L92.2882 1173.42 Z\" fill=\"#000000\" fill-rule=\"nonzero\" fill-opacity=\"1\" /><path clip-path=\"url(#clip860)\" d=\"M50.9921 985.418 L80.6679 985.418 L80.6679 989.353 L50.9921 989.353 L50.9921 985.418 Z\" fill=\"#000000\" fill-rule=\"nonzero\" fill-opacity=\"1\" /><path clip-path=\"url(#clip860)\" d=\"M103.608 971.76 L91.8021 990.209 L103.608 990.209 L103.608 971.76 M102.381 967.686 L108.26 967.686 L108.26 990.209 L113.191 990.209 L113.191 994.098 L108.26 994.098 L108.26 1002.25 L103.608 1002.25 L103.608 994.098 L88.0058 994.098 L88.0058 989.584 L102.381 967.686 Z\" fill=\"#000000\" fill-rule=\"nonzero\" fill-opacity=\"1\" /><path clip-path=\"url(#clip860)\" d=\"M52.1264 779.681 L81.8021 779.681 L81.8021 783.616 L52.1264 783.616 L52.1264 779.681 Z\" fill=\"#000000\" fill-rule=\"nonzero\" fill-opacity=\"1\" /><path clip-path=\"url(#clip860)\" d=\"M106.061 777.876 Q109.418 778.593 111.293 780.862 Q113.191 783.13 113.191 786.463 Q113.191 791.579 109.672 794.38 Q106.154 797.181 99.6724 797.181 Q97.4965 797.181 95.1817 796.741 Q92.89 796.325 90.4364 795.468 L90.4364 790.954 Q92.3808 792.088 94.6956 792.667 Q97.0104 793.246 99.5335 793.246 Q103.932 793.246 106.223 791.51 Q108.538 789.774 108.538 786.463 Q108.538 783.408 106.385 781.695 Q104.256 779.959 100.436 779.959 L96.4085 779.959 L96.4085 776.116 L100.621 776.116 Q104.071 776.116 105.899 774.751 Q107.728 773.362 107.728 770.769 Q107.728 768.107 105.83 766.695 Q103.955 765.26 100.436 765.26 Q98.515 765.26 96.316 765.677 Q94.1169 766.093 91.478 766.973 L91.478 762.806 Q94.14 762.065 96.4548 761.695 Q98.7928 761.325 100.853 761.325 Q106.177 761.325 109.279 763.755 Q112.381 766.163 112.381 770.283 Q112.381 773.153 110.737 775.144 Q109.094 777.112 106.061 777.876 Z\" fill=\"#000000\" fill-rule=\"nonzero\" fill-opacity=\"1\" /><path clip-path=\"url(#clip860)\" d=\"M53.0754 573.945 L82.7512 573.945 L82.7512 577.88 L53.0754 577.88 L53.0754 573.945 Z\" fill=\"#000000\" fill-rule=\"nonzero\" fill-opacity=\"1\" /><path clip-path=\"url(#clip860)\" d=\"M96.8715 586.838 L113.191 586.838 L113.191 590.773 L91.2465 590.773 L91.2465 586.838 Q93.9086 584.084 98.4919 579.454 Q103.098 574.801 104.279 573.459 Q106.524 570.935 107.404 569.199 Q108.307 567.44 108.307 565.75 Q108.307 562.996 106.362 561.26 Q104.441 559.523 101.339 559.523 Q99.14 559.523 96.6863 560.287 Q94.2558 561.051 91.478 562.602 L91.478 557.88 Q94.3021 556.746 96.7558 556.167 Q99.2095 555.588 101.246 555.588 Q106.617 555.588 109.811 558.273 Q113.006 560.959 113.006 565.449 Q113.006 567.579 112.196 569.5 Q111.408 571.398 109.302 573.991 Q108.723 574.662 105.621 577.88 Q102.52 581.074 96.8715 586.838 Z\" fill=\"#000000\" fill-rule=\"nonzero\" fill-opacity=\"1\" /><path clip-path=\"url(#clip860)\" d=\"M52.7051 368.208 L82.3808 368.208 L82.3808 372.143 L52.7051 372.143 L52.7051 368.208 Z\" fill=\"#000000\" fill-rule=\"nonzero\" fill-opacity=\"1\" /><path clip-path=\"url(#clip860)\" d=\"M93.2836 381.102 L100.922 381.102 L100.922 354.736 L92.6123 356.403 L92.6123 352.144 L100.876 350.477 L105.552 350.477 L105.552 381.102 L113.191 381.102 L113.191 385.037 L93.2836 385.037 L93.2836 381.102 Z\" fill=\"#000000\" fill-rule=\"nonzero\" fill-opacity=\"1\" /><path clip-path=\"url(#clip860)\" d=\"M101.246 147.819 Q97.6354 147.819 95.8067 151.384 Q94.0012 154.926 94.0012 162.055 Q94.0012 169.162 95.8067 172.726 Q97.6354 176.268 101.246 176.268 Q104.881 176.268 106.686 172.726 Q108.515 169.162 108.515 162.055 Q108.515 154.926 106.686 151.384 Q104.881 147.819 101.246 147.819 M101.246 144.115 Q107.057 144.115 110.112 148.722 Q113.191 153.305 113.191 162.055 Q113.191 170.782 110.112 175.388 Q107.057 179.972 101.246 179.972 Q95.4363 179.972 92.3576 175.388 Q89.3021 170.782 89.3021 162.055 Q89.3021 153.305 92.3576 148.722 Q95.4363 144.115 101.246 144.115 Z\" fill=\"#000000\" fill-rule=\"nonzero\" fill-opacity=\"1\" /><path clip-path=\"url(#clip860)\" d=\"M964.791 30.9357 Q964.791 35.5265 961.389 39.7484 Q958.028 43.9703 952.535 46.5527 Q947.084 49.094 941.222 49.094 L926.958 49.094 L921.752 70.0805 Q921.711 70.2035 921.588 70.7363 Q921.465 71.2282 921.465 71.5151 Q921.465 72.5399 922.736 72.7858 Q924.048 73.0317 926.958 73.0317 Q928.844 73.0317 929.13 73.3597 Q929.294 73.5646 929.294 73.9335 Q929.294 74.5074 929.13 74.9172 Q928.967 75.2861 928.639 75.4091 Q928.352 75.5321 928.147 75.5731 Q927.942 75.6141 927.614 75.6141 Q926.753 75.6141 924.909 75.5321 Q923.105 75.4501 922.162 75.4501 L916.793 75.3681 L906.136 75.6141 Q904.865 75.6141 904.865 74.5893 Q904.865 73.8105 905.193 73.4826 Q905.521 73.1137 905.89 73.0727 Q906.258 73.0317 907.201 73.0317 Q909.251 73.0317 910.48 72.9088 Q911.71 72.7858 912.489 72.6218 Q913.309 72.4169 913.719 71.843 Q914.169 71.2692 914.374 70.7773 Q914.579 70.2445 914.866 69.0558 L926.097 23.9676 Q926.425 22.6149 926.425 22.41 Q926.425 21.7132 926.015 21.4672 Q925.646 21.1803 924.581 21.0573 Q922.531 20.8934 920.974 20.8934 Q919.949 20.8934 919.539 20.8524 Q919.17 20.8114 918.842 20.6065 Q918.555 20.3605 918.555 19.8686 Q918.555 19.0898 918.883 18.7619 Q919.252 18.393 919.662 18.352 Q920.072 18.2701 921.056 18.2701 L948.272 18.2701 Q956.101 18.2701 960.446 22.0001 Q964.791 25.7301 964.791 30.9357 M957.003 28.9273 Q957.003 20.8934 945.567 20.8934 L937.533 20.8934 Q934.869 20.8934 934.213 21.3852 Q933.557 21.8361 932.983 24.0905 L927.286 46.9216 L939.132 46.9216 Q947.084 46.9216 952.043 42.4537 Q954.298 40.4043 955.651 36.1414 Q957.003 31.8785 957.003 28.9273 Z\" fill=\"#000000\" fill-rule=\"nonzero\" fill-opacity=\"1\" /><path clip-path=\"url(#clip860)\" d=\"M987.249 18.2701 L975.157 66.8014 Q974.666 68.7279 974.666 70.8183 Q974.666 74.6713 977.207 74.6713 Q978.396 74.6713 979.379 73.8925 Q980.363 73.0727 981.101 71.4741 Q981.88 69.8346 982.372 68.277 Q982.904 66.7194 983.56 64.301 Q983.765 63.3583 983.97 63.0713 Q984.175 62.7844 984.749 62.7844 Q985.774 62.7844 985.774 63.6042 Q984.749 68.6459 983.232 71.843 Q981.019 76.5568 976.92 76.5568 Q973.846 76.5568 971.55 74.4254 Q969.296 72.2529 969.296 68.8098 Q969.296 67.4982 969.706 65.9406 L980.281 23.9676 L980.568 22.328 Q980.568 21.8771 980.404 21.6312 Q980.24 21.3852 979.256 21.1393 Q978.314 20.8934 976.428 20.8934 Q975.649 20.8934 975.28 20.8524 Q974.953 20.8114 974.625 20.6065 Q974.338 20.4015 974.338 19.9506 Q974.338 19.2128 974.625 18.8029 Q974.953 18.393 975.198 18.3111 Q975.444 18.2291 975.936 18.1881 Q976.633 18.1471 978.969 17.9421 Q981.306 17.6962 983.314 17.5323 Q985.323 17.3683 986.184 17.3683 Q986.675 17.3683 986.921 17.6142 Q987.208 17.8192 987.249 18.0651 L987.249 18.2701 Z\" fill=\"#000000\" fill-rule=\"nonzero\" fill-opacity=\"1\" /><path clip-path=\"url(#clip860)\" d=\"M1032.7 52.7011 Q1032.7 57.1689 1030.73 61.5957 Q1028.76 65.9816 1025.6 69.2607 Q1022.49 72.4989 1018.39 74.5483 Q1014.29 76.5568 1010.19 76.5568 Q1004.33 76.5568 1000.52 72.5809 Q996.748 68.5639 996.748 62.3335 Q996.748 56.5131 999.986 50.9795 Q1003.26 45.405 1008.51 41.9619 Q1013.76 38.5188 1019.25 38.5188 Q1025.03 38.5188 1028.84 42.4127 Q1032.7 46.3067 1032.7 52.7011 M1026.55 49.4219 Q1026.55 45.446 1024.62 42.9046 Q1022.69 40.3633 1019.17 40.3633 Q1018.14 40.3633 1016.96 40.6912 Q1015.77 40.9781 1014.21 41.7569 Q1012.69 42.5357 1010.97 44.1753 Q1009.29 45.7739 1007.81 48.0693 Q1005.89 51.1025 1004.41 56.677 Q1002.98 62.2106 1002.98 65.5307 Q1002.98 70.1215 1005.11 72.4169 Q1007.24 74.6713 1010.27 74.6713 Q1013.23 74.6713 1016.34 72.6218 Q1019.5 70.5314 1021.67 66.9653 Q1023.84 63.2763 1025.19 57.8657 Q1026.55 52.4141 1026.55 49.4219 Z\" fill=\"#000000\" fill-rule=\"nonzero\" fill-opacity=\"1\" /><path clip-path=\"url(#clip860)\" d=\"M1059.54 40.3633 Q1059.54 41.511 1059 41.7979 Q1058.47 42.0438 1057 42.0438 L1049.13 42.0438 L1042.89 66.8014 Q1042.4 68.9738 1042.4 70.8183 Q1042.4 72.8678 1043.02 73.7695 Q1043.67 74.6713 1045.03 74.6713 Q1047.69 74.6713 1050.56 72.2529 Q1053.47 69.8346 1055.93 63.9321 Q1056.26 63.1533 1056.42 62.9894 Q1056.63 62.7844 1057.16 62.7844 Q1058.18 62.7844 1058.18 63.6042 Q1058.18 63.8911 1057.61 65.2028 Q1057.08 66.5144 1055.89 68.4409 Q1054.74 70.3674 1053.22 72.171 Q1051.75 73.9745 1049.49 75.2861 Q1047.24 76.5568 1044.82 76.5568 Q1041.42 76.5568 1039.25 74.3844 Q1037.12 72.212 1037.12 68.8098 Q1037.12 67.7031 1037.98 64.1781 Q1038.84 60.612 1043.51 42.0438 L1036.09 42.0438 Q1035.07 42.0438 1034.66 42.0029 Q1034.29 41.9619 1034 41.7569 Q1033.75 41.511 1033.75 41.0191 Q1033.75 40.2403 1034.08 39.9124 Q1034.41 39.5435 1034.82 39.5025 Q1035.27 39.4205 1036.3 39.4205 L1044.17 39.4205 L1047.44 26.099 Q1047.77 24.7874 1048.59 24.0496 Q1049.45 23.2708 1049.95 23.1888 Q1050.44 23.0658 1050.81 23.0658 Q1051.91 23.0658 1052.57 23.6806 Q1053.22 24.2545 1053.22 25.3202 Q1053.22 25.8941 1049.78 39.4205 L1057.16 39.4205 Q1058.1 39.4205 1058.47 39.4615 Q1058.88 39.5025 1059.21 39.7075 Q1059.54 39.9124 1059.54 40.3633 Z\" fill=\"#000000\" fill-rule=\"nonzero\" fill-opacity=\"1\" /><path clip-path=\"url(#clip860)\" d=\"M1121.88 52.7011 Q1121.88 57.1689 1119.92 61.5957 Q1117.95 65.9816 1114.79 69.2607 Q1111.68 72.4989 1107.58 74.5483 Q1103.48 76.5568 1099.38 76.5568 Q1093.52 76.5568 1089.71 72.5809 Q1085.94 68.5639 1085.94 62.3335 Q1085.94 56.5131 1089.17 50.9795 Q1092.45 45.405 1097.7 41.9619 Q1102.95 38.5188 1108.44 38.5188 Q1114.22 38.5188 1118.03 42.4127 Q1121.88 46.3067 1121.88 52.7011 M1115.74 49.4219 Q1115.74 45.446 1113.81 42.9046 Q1111.88 40.3633 1108.36 40.3633 Q1107.33 40.3633 1106.14 40.6912 Q1104.96 40.9781 1103.4 41.7569 Q1101.88 42.5357 1100.16 44.1753 Q1098.48 45.7739 1097 48.0693 Q1095.08 51.1025 1093.6 56.677 Q1092.17 62.2106 1092.17 65.5307 Q1092.17 70.1215 1094.3 72.4169 Q1096.43 74.6713 1099.46 74.6713 Q1102.41 74.6713 1105.53 72.6218 Q1108.69 70.5314 1110.86 66.9653 Q1113.03 63.2763 1114.38 57.8657 Q1115.74 52.4141 1115.74 49.4219 Z\" fill=\"#000000\" fill-rule=\"nonzero\" fill-opacity=\"1\" /><path clip-path=\"url(#clip860)\" d=\"M1168.1 22.205 Q1168.1 24.4594 1166.66 25.8531 Q1165.27 27.2467 1163.51 27.2467 Q1162.24 27.2467 1161.29 26.4679 Q1160.39 25.6891 1160.39 24.3365 Q1160.39 22.9428 1161.46 21.4672 Q1162.52 19.9916 1164.94 19.7867 Q1163.34 18.2701 1160.8 18.2701 Q1159.53 18.2701 1158.47 19.0898 Q1157.44 19.8686 1156.87 21.1393 Q1156.25 22.451 1154.86 29.87 Q1154.41 32.2884 1154 34.6248 Q1153.59 36.9612 1153.1 39.4205 L1160.06 39.4205 Q1160.97 39.4205 1161.33 39.4615 Q1161.7 39.5025 1161.99 39.7075 Q1162.32 39.9124 1162.32 40.3633 Q1162.32 41.511 1161.79 41.7979 Q1161.29 42.0438 1159.82 42.0438 L1152.6 42.0438 L1147.56 68.6459 Q1147.44 69.4247 1146.91 71.884 Q1146.41 74.3024 1145.23 78.2784 Q1144.04 82.2953 1142.85 84.6727 Q1142.19 86.0253 1141.33 87.296 Q1140.51 88.6077 1139.32 89.9193 Q1138.13 91.231 1136.58 92.0098 Q1135.02 92.8296 1133.38 92.8296 Q1130.59 92.8296 1128.42 91.272 Q1126.25 89.7144 1126.25 87.0501 Q1126.25 84.7957 1127.64 83.402 Q1129.08 82.0084 1130.84 82.0084 Q1132.11 82.0084 1133.01 82.7872 Q1133.95 83.566 1133.95 84.9186 Q1133.95 85.4925 1133.75 86.1483 Q1133.54 86.8041 1133.09 87.5419 Q1132.64 88.3207 1131.66 88.8536 Q1130.67 89.3865 1129.32 89.4684 Q1130.92 90.985 1133.38 90.985 Q1134.16 90.985 1134.86 90.6571 Q1135.55 90.3702 1136.13 89.6324 Q1136.74 88.8946 1137.19 88.1568 Q1137.64 87.46 1138.09 86.1073 Q1138.54 84.7957 1138.83 83.8119 Q1139.12 82.8282 1139.49 81.0656 Q1139.9 79.3031 1140.1 78.2374 Q1140.31 77.2126 1140.68 75.2042 L1146.95 42.0438 L1141.41 42.0438 Q1140.43 42.0438 1140.02 42.0029 Q1139.65 41.9619 1139.36 41.7569 Q1139.08 41.511 1139.08 41.0191 Q1139.08 40.2403 1139.41 39.9124 Q1139.77 39.5435 1140.18 39.5025 Q1140.59 39.4205 1141.58 39.4205 L1147.4 39.4205 Q1149.37 29.0502 1150.14 26.263 Q1151.05 23.3117 1152.44 21.2623 Q1153.83 19.1718 1155.39 18.1881 Q1156.95 17.2043 1158.22 16.8354 Q1159.53 16.4255 1160.8 16.4255 Q1163.67 16.4255 1165.88 17.9831 Q1168.1 19.4997 1168.1 22.205 Z\" fill=\"#000000\" fill-rule=\"nonzero\" fill-opacity=\"1\" /><path clip-path=\"url(#clip860)\" d=\"M1245.67 53.4389 Q1246.17 53.9307 1246.17 54.6276 Q1246.17 55.3244 1245.67 55.8162 Q1245.18 56.3081 1244.48 56.3081 L1191.94 56.3081 Q1191.24 56.3081 1190.75 55.8162 Q1190.26 55.3244 1190.26 54.6276 Q1190.26 53.9307 1190.75 53.4389 Q1191.24 52.947 1191.94 52.947 L1244.48 52.947 Q1245.18 52.947 1245.67 53.4389 Z\" fill=\"#000000\" fill-rule=\"nonzero\" fill-opacity=\"1\" /><path clip-path=\"url(#clip860)\" d=\"M1278.22 48.7661 Q1278.22 36.4283 1281.33 29.7061 Q1285.68 19.7047 1295.92 19.7047 Q1298.1 19.7047 1300.35 20.3195 Q1302.65 20.8934 1305.51 23.1478 Q1308.43 25.4022 1310.19 29.0912 Q1313.55 36.2234 1313.55 48.7661 Q1313.55 61.0219 1310.43 67.7031 Q1305.88 77.4586 1295.84 77.4586 Q1292.07 77.4586 1288.22 75.5321 Q1284.41 73.6056 1281.99 68.9738 Q1278.22 62.0466 1278.22 48.7661 M1285.18 47.7414 Q1285.18 60.407 1286.09 65.4487 Q1287.11 70.9003 1289.9 73.2777 Q1292.73 75.6141 1295.84 75.6141 Q1299.2 75.6141 1301.99 73.1137 Q1304.82 70.5724 1305.68 65.1208 Q1306.62 59.7512 1306.58 47.7414 Q1306.58 36.0594 1305.76 31.3866 Q1304.65 25.9351 1301.7 23.7626 Q1298.79 21.5492 1295.84 21.5492 Q1294.73 21.5492 1293.55 21.8771 Q1292.4 22.205 1290.72 23.1478 Q1289.04 24.0905 1287.73 26.4269 Q1286.45 28.7633 1285.84 32.2884 Q1285.18 36.8382 1285.18 47.7414 Z\" fill=\"#000000\" fill-rule=\"nonzero\" fill-opacity=\"1\" /><path clip-path=\"url(#clip860)\" d=\"M1321.06 74.2614 Q1319.79 72.9088 1319.79 71.1462 Q1319.79 69.3837 1321.06 68.113 Q1322.33 66.8014 1324.25 66.8014 Q1326.1 66.8014 1327.33 68.031 Q1328.6 69.2197 1328.6 71.1872 Q1328.6 73.1137 1327.25 74.3844 Q1325.93 75.6141 1324.25 75.6141 Q1322.33 75.6141 1321.06 74.2614 Z\" fill=\"#000000\" fill-rule=\"nonzero\" fill-opacity=\"1\" /><path clip-path=\"url(#clip860)\" d=\"M1342.89 75.6141 Q1342.89 74.0975 1343.01 73.6466 Q1343.17 73.1957 1343.83 72.4989 L1359.94 54.5456 Q1368.75 44.6262 1368.75 35.9774 Q1368.75 30.3619 1365.8 26.345 Q1362.89 22.328 1357.52 22.328 Q1353.83 22.328 1350.71 24.5824 Q1347.6 26.8368 1346.16 30.8538 Q1346.41 30.7718 1347.27 30.7718 Q1349.36 30.7718 1350.51 32.0834 Q1351.7 33.3951 1351.7 35.1576 Q1351.7 37.4121 1350.22 38.5188 Q1348.79 39.5845 1347.35 39.5845 Q1346.78 39.5845 1346 39.4615 Q1345.26 39.3386 1344.07 38.1909 Q1342.89 37.0022 1342.89 34.9117 Q1342.89 29.0502 1347.31 24.3775 Q1351.78 19.7047 1358.58 19.7047 Q1366.29 19.7047 1371.33 24.2955 Q1376.41 28.8453 1376.41 35.9774 Q1376.41 38.4778 1375.64 40.7732 Q1374.9 43.0276 1373.87 44.7901 Q1372.89 46.5527 1370.18 49.3809 Q1367.48 52.2092 1365.31 54.2177 Q1363.13 56.2261 1358.26 60.489 L1349.36 69.1378 L1364.49 69.1378 Q1371.86 69.1378 1372.44 68.4819 Q1373.26 67.2932 1374.28 61.0219 L1376.41 61.0219 L1374.04 75.6141 L1342.89 75.6141 Z\" fill=\"#000000\" fill-rule=\"nonzero\" fill-opacity=\"1\" /><path clip-path=\"url(#clip860)\" d=\"M1384.79 62.0876 Q1384.79 59.5873 1386.14 58.6445 Q1387.5 57.6608 1388.93 57.6608 Q1390.86 57.6608 1391.96 58.8904 Q1393.11 60.0791 1393.11 61.7597 Q1393.11 63.4402 1391.96 64.6699 Q1390.86 65.8586 1388.93 65.8586 Q1387.99 65.8586 1387.5 65.6947 Q1388.6 69.5476 1391.96 72.3349 Q1395.37 75.1222 1399.83 75.1222 Q1405.45 75.1222 1408.81 69.6706 Q1410.82 66.1455 1410.82 58.1526 Q1410.82 51.1025 1409.3 47.5774 Q1406.97 42.2078 1402.17 42.2078 Q1395.37 42.2078 1391.35 48.0693 Q1390.86 48.8071 1390.28 48.8481 Q1389.46 48.8481 1389.26 48.3972 Q1389.1 47.9053 1389.1 46.6346 L1389.1 21.7951 Q1389.1 19.7867 1389.92 19.7867 Q1390.24 19.7867 1390.94 20.0326 Q1396.23 22.369 1402.09 22.41 Q1408.11 22.41 1413.53 19.9506 Q1413.94 19.7047 1414.18 19.7047 Q1415 19.7047 1415.04 20.6474 Q1415.04 20.9754 1414.35 21.9591 Q1413.69 22.9019 1412.25 24.1725 Q1410.82 25.4022 1408.98 26.5909 Q1407.13 27.7796 1404.43 28.5994 Q1401.76 29.3782 1398.81 29.3782 Q1395.29 29.3782 1391.68 28.2714 L1391.68 44.6262 Q1396.02 40.3633 1402.34 40.3633 Q1409.06 40.3633 1413.69 45.7739 Q1418.32 51.1845 1418.32 58.7265 Q1418.32 66.6374 1412.83 72.048 Q1407.38 77.4586 1400 77.4586 Q1393.28 77.4586 1389.01 72.6628 Q1384.79 67.8671 1384.79 62.0876 Z\" fill=\"#000000\" fill-rule=\"nonzero\" fill-opacity=\"1\" /><path clip-path=\"url(#clip860)\" d=\"M1449.65 60.1047 Q1449.65 58.6701 1451.58 57.7274 L1463.26 52.1938 L1451.42 46.6603 Q1449.65 45.8405 1449.65 44.4059 Q1449.65 43.5861 1450.31 42.8483 Q1451.01 42.0695 1451.91 42.0695 Q1452.56 42.0695 1453.75 42.9712 L1464.16 50.5133 Q1462.89 36.6589 1462.93 36.249 Q1462.93 35.4292 1463.55 34.8144 Q1464.16 34.1585 1465.19 34.1585 Q1466.01 34.1585 1466.66 34.7734 Q1467.36 35.3472 1467.36 36.249 L1466.13 50.5133 L1475.43 43.6271 Q1477.61 42.0285 1478.39 42.0695 Q1479.33 42.0695 1479.98 42.8073 Q1480.64 43.5451 1480.64 44.4059 Q1480.64 45.8405 1478.71 46.7422 L1467.03 52.2758 L1478.88 57.8503 Q1480.64 58.6701 1480.64 60.1047 Q1480.64 60.9245 1479.94 61.7033 Q1479.29 62.4411 1478.39 62.4411 Q1477.89 62.4411 1477.03 61.9493 Q1476.87 61.8673 1475.11 60.5556 Q1473.34 59.244 1470.6 57.2355 Q1467.89 55.227 1466.13 53.9564 Q1467.4 67.8107 1467.36 68.2206 Q1467.36 69.0404 1466.75 69.6962 Q1466.13 70.3521 1465.11 70.3521 Q1464.29 70.3521 1463.59 69.7782 Q1462.93 69.1634 1462.93 68.2206 L1464.16 53.9564 L1452.44 62.4411 Q1451.17 62.4411 1450.47 61.8263 Q1449.82 61.1705 1449.73 60.8016 Q1449.65 60.4327 1449.65 60.1047 Z\" fill=\"#000000\" fill-rule=\"nonzero\" fill-opacity=\"1\" /><path clip-path=\"url(#clip860)\" d=\"M1556.32 44.0523 Q1556.32 46.3477 1554.89 47.6594 Q1553.45 48.93 1551.81 48.93 Q1550.26 48.93 1549.44 48.0283 Q1548.62 47.1265 1548.62 45.9788 Q1548.62 44.4212 1549.76 43.0686 Q1550.91 41.7159 1552.63 41.429 Q1550.95 40.3633 1548.45 40.3633 Q1546.81 40.3633 1545.38 41.2241 Q1543.98 42.0848 1543.12 43.1915 Q1542.3 44.2983 1541.57 45.8968 Q1540.87 47.4544 1540.58 48.3972 Q1540.34 49.2989 1540.13 50.2827 L1537.26 61.7597 Q1535.87 67.2113 1535.87 69.1378 Q1535.87 71.5151 1537.02 73.1137 Q1538.16 74.6713 1540.46 74.6713 Q1541.36 74.6713 1542.39 74.4254 Q1543.41 74.1384 1544.72 73.4006 Q1546.08 72.6218 1547.26 71.4741 Q1548.49 70.2855 1549.68 68.277 Q1550.87 66.2685 1551.65 63.6862 Q1551.9 62.7844 1552.72 62.7844 Q1553.74 62.7844 1553.74 63.6042 Q1553.74 64.301 1553.17 65.7766 Q1552.63 67.2113 1551.44 69.0968 Q1550.3 70.9413 1548.78 72.6218 Q1547.26 74.2614 1545.01 75.4091 Q1542.76 76.5568 1540.3 76.5568 Q1536.77 76.5568 1534.43 74.6713 Q1532.1 72.7858 1531.24 70.1625 Q1531.03 70.5314 1530.75 71.0233 Q1530.46 71.5151 1529.6 72.6218 Q1528.78 73.6876 1527.84 74.5074 Q1526.89 75.2861 1525.42 75.901 Q1523.98 76.5568 1522.42 76.5568 Q1520.46 76.5568 1518.69 75.983 Q1516.97 75.4091 1515.74 74.0975 Q1514.51 72.7858 1514.51 70.9823 Q1514.51 68.9738 1515.87 67.5802 Q1517.26 66.1455 1519.15 66.1455 Q1520.33 66.1455 1521.28 66.8424 Q1522.26 67.5392 1522.26 69.0558 Q1522.26 70.7363 1521.11 72.007 Q1519.97 73.2777 1518.33 73.6056 Q1520.01 74.6713 1522.51 74.6713 Q1525.21 74.6713 1527.34 72.2939 Q1529.47 69.9166 1530.5 65.9406 Q1533.04 56.3901 1534.02 52.1272 Q1535.01 47.8233 1535.01 45.9788 Q1535.01 44.2573 1534.56 43.0686 Q1534.11 41.8799 1533.33 41.347 Q1532.59 40.7732 1531.89 40.5682 Q1531.24 40.3633 1530.5 40.3633 Q1529.27 40.3633 1527.88 40.8552 Q1526.52 41.347 1524.88 42.4947 Q1523.29 43.6014 1521.77 45.8968 Q1520.25 48.1922 1519.23 51.3484 Q1519.02 52.2912 1518.12 52.2912 Q1517.14 52.2502 1517.14 51.4304 Q1517.14 50.7336 1517.67 49.2989 Q1518.24 47.8233 1519.39 45.9788 Q1520.58 44.1343 1522.1 42.4947 Q1523.65 40.8142 1525.91 39.6665 Q1528.2 38.5188 1530.66 38.5188 Q1531.77 38.5188 1532.84 38.7647 Q1533.94 38.9696 1535.25 39.5845 Q1536.61 40.1993 1537.8 41.552 Q1538.98 42.9046 1539.72 44.8721 Q1540.21 43.9294 1540.87 43.0276 Q1541.57 42.1258 1542.63 41.0191 Q1543.74 39.8714 1545.26 39.2156 Q1546.81 38.5188 1548.53 38.5188 Q1550.22 38.5188 1551.85 38.9696 Q1553.49 39.3795 1554.89 40.7322 Q1556.32 42.0438 1556.32 44.0523 Z\" fill=\"#000000\" fill-rule=\"nonzero\" fill-opacity=\"1\" /><path clip-path=\"url(#clip860)\" d=\"M1564.88 50.5084 Q1564.88 49.4468 1564.97 49.1312 Q1565.08 48.8156 1565.54 48.3278 L1576.82 35.7605 Q1582.98 28.8169 1582.98 22.7628 Q1582.98 18.8319 1580.92 16.0201 Q1578.88 13.2082 1575.12 13.2082 Q1572.54 13.2082 1570.36 14.7863 Q1568.18 16.3644 1567.18 19.1762 Q1567.35 19.1188 1567.95 19.1188 Q1569.41 19.1188 1570.22 20.037 Q1571.05 20.9552 1571.05 22.1889 Q1571.05 23.767 1570.02 24.5417 Q1569.01 25.2877 1568.01 25.2877 Q1567.61 25.2877 1567.06 25.2017 Q1566.54 25.1156 1565.71 24.3122 Q1564.88 23.4801 1564.88 22.0168 Q1564.88 17.9138 1567.98 14.6428 Q1571.11 11.3719 1575.87 11.3719 Q1581.26 11.3719 1584.79 14.5854 Q1588.35 17.7703 1588.35 22.7628 Q1588.35 24.513 1587.81 26.1198 Q1587.29 27.6979 1586.57 28.9317 Q1585.88 30.1655 1583.99 32.1452 Q1582.1 34.125 1580.57 35.531 Q1579.05 36.9369 1575.64 39.9209 L1569.41 45.975 L1580 45.975 Q1585.17 45.975 1585.57 45.5159 Q1586.14 44.6839 1586.86 40.2939 L1588.35 40.2939 L1586.69 50.5084 L1564.88 50.5084 Z\" fill=\"#000000\" fill-rule=\"nonzero\" fill-opacity=\"1\" /><polyline clip-path=\"url(#clip862)\" style=\"stroke:#009af9; stroke-linecap:round; stroke-linejoin:round; stroke-width:4; stroke-opacity:1; fill:none\" points=\"211.556,1447.87 222.287,1421.46 233.017,1395.32 264.441,1320.35 295.866,1247.74 327.29,1177.47 358.714,1109.55 387.951,1048.47 417.188,989.428 436.782,950.996 456.377,913.479 475.971,876.874 495.565,841.184 527.947,784.205 560.329,729.722 590.441,681.298 620.553,635.032 658.353,580.008 696.154,528.386 730.062,484.973 763.969,444.298 783.375,422.25 802.781,401.099 822.187,380.844 841.593,361.485 870.604,334.216 899.616,308.95 936.723,279.554 973.829,253.436 1007.7,232.459 1041.56,214.212 1060.84,205.048 1080.11,196.767 1099.38,189.371 1118.65,182.858 1149.21,174.346 1179.77,168.055 1217.73,163.336 1255.69,162.047 1284.76,163.379 1313.83,166.723 1334.33,170.29 1354.82,174.856 1375.32,180.422 1395.81,186.987 1426.44,198.664 1457.07,212.573 1491.9,231.105 1526.73,252.526 1561.23,276.585 1595.73,303.478 1633.68,336.337 1671.63,372.625 1700.62,402.652 1729.61,434.679 1766.19,477.95 1802.77,524.406 1836.6,570.208 1870.44,618.736 1905.33,671.638 1940.23,727.438 1975.6,786.956 2010.97,849.451 2047.9,917.886 2084.83,989.568 2113.92,1048.32 2143.02,1109.09 2176.14,1180.74 2209.27,1255 2242.4,1331.87 2275.52,1411.35 2279.24,1420.43 2282.96,1429.55 2286.67,1438.69 2290.39,1447.87 \"/>\n",
       "</svg>\n"
      ],
      "text/html": [
       "<?xml version=\"1.0\" encoding=\"utf-8\"?>\n",
       "<svg xmlns=\"http://www.w3.org/2000/svg\" xmlns:xlink=\"http://www.w3.org/1999/xlink\" width=\"600\" height=\"400\" viewBox=\"0 0 2400 1600\">\n",
       "<defs>\n",
       "  <clipPath id=\"clip910\">\n",
       "    <rect x=\"0\" y=\"0\" width=\"2400\" height=\"1600\"/>\n",
       "  </clipPath>\n",
       "</defs>\n",
       "<path clip-path=\"url(#clip910)\" d=\"M0 1600 L2400 1600 L2400 8.88178e-14 L0 8.88178e-14  Z\" fill=\"#ffffff\" fill-rule=\"evenodd\" fill-opacity=\"1\"/>\n",
       "<defs>\n",
       "  <clipPath id=\"clip911\">\n",
       "    <rect x=\"480\" y=\"0\" width=\"1681\" height=\"1600\"/>\n",
       "  </clipPath>\n",
       "</defs>\n",
       "<path clip-path=\"url(#clip910)\" d=\"M149.191 1486.45 L2352.76 1486.45 L2352.76 123.472 L149.191 123.472  Z\" fill=\"#ffffff\" fill-rule=\"evenodd\" fill-opacity=\"1\"/>\n",
       "<defs>\n",
       "  <clipPath id=\"clip912\">\n",
       "    <rect x=\"149\" y=\"123\" width=\"2205\" height=\"1364\"/>\n",
       "  </clipPath>\n",
       "</defs>\n",
       "<polyline clip-path=\"url(#clip912)\" style=\"stroke:#000000; stroke-linecap:round; stroke-linejoin:round; stroke-width:2; stroke-opacity:0.1; fill:none\" points=\"419.439,1486.45 419.439,123.472 \"/>\n",
       "<polyline clip-path=\"url(#clip912)\" style=\"stroke:#000000; stroke-linecap:round; stroke-linejoin:round; stroke-width:2; stroke-opacity:0.1; fill:none\" points=\"835.206,1486.45 835.206,123.472 \"/>\n",
       "<polyline clip-path=\"url(#clip912)\" style=\"stroke:#000000; stroke-linecap:round; stroke-linejoin:round; stroke-width:2; stroke-opacity:0.1; fill:none\" points=\"1250.97,1486.45 1250.97,123.472 \"/>\n",
       "<polyline clip-path=\"url(#clip912)\" style=\"stroke:#000000; stroke-linecap:round; stroke-linejoin:round; stroke-width:2; stroke-opacity:0.1; fill:none\" points=\"1666.74,1486.45 1666.74,123.472 \"/>\n",
       "<polyline clip-path=\"url(#clip912)\" style=\"stroke:#000000; stroke-linecap:round; stroke-linejoin:round; stroke-width:2; stroke-opacity:0.1; fill:none\" points=\"2082.51,1486.45 2082.51,123.472 \"/>\n",
       "<polyline clip-path=\"url(#clip912)\" style=\"stroke:#000000; stroke-linecap:round; stroke-linejoin:round; stroke-width:2; stroke-opacity:0.1; fill:none\" points=\"149.191,1396.44 2352.76,1396.44 \"/>\n",
       "<polyline clip-path=\"url(#clip912)\" style=\"stroke:#000000; stroke-linecap:round; stroke-linejoin:round; stroke-width:2; stroke-opacity:0.1; fill:none\" points=\"149.191,1190.7 2352.76,1190.7 \"/>\n",
       "<polyline clip-path=\"url(#clip912)\" style=\"stroke:#000000; stroke-linecap:round; stroke-linejoin:round; stroke-width:2; stroke-opacity:0.1; fill:none\" points=\"149.191,984.966 2352.76,984.966 \"/>\n",
       "<polyline clip-path=\"url(#clip912)\" style=\"stroke:#000000; stroke-linecap:round; stroke-linejoin:round; stroke-width:2; stroke-opacity:0.1; fill:none\" points=\"149.191,779.23 2352.76,779.23 \"/>\n",
       "<polyline clip-path=\"url(#clip912)\" style=\"stroke:#000000; stroke-linecap:round; stroke-linejoin:round; stroke-width:2; stroke-opacity:0.1; fill:none\" points=\"149.191,573.493 2352.76,573.493 \"/>\n",
       "<polyline clip-path=\"url(#clip912)\" style=\"stroke:#000000; stroke-linecap:round; stroke-linejoin:round; stroke-width:2; stroke-opacity:0.1; fill:none\" points=\"149.191,367.757 2352.76,367.757 \"/>\n",
       "<polyline clip-path=\"url(#clip912)\" style=\"stroke:#000000; stroke-linecap:round; stroke-linejoin:round; stroke-width:2; stroke-opacity:0.1; fill:none\" points=\"149.191,162.02 2352.76,162.02 \"/>\n",
       "<polyline clip-path=\"url(#clip910)\" style=\"stroke:#000000; stroke-linecap:round; stroke-linejoin:round; stroke-width:4; stroke-opacity:1; fill:none\" points=\"149.191,1486.45 2352.76,1486.45 \"/>\n",
       "<polyline clip-path=\"url(#clip910)\" style=\"stroke:#000000; stroke-linecap:round; stroke-linejoin:round; stroke-width:4; stroke-opacity:1; fill:none\" points=\"419.439,1486.45 419.439,1467.55 \"/>\n",
       "<polyline clip-path=\"url(#clip910)\" style=\"stroke:#000000; stroke-linecap:round; stroke-linejoin:round; stroke-width:4; stroke-opacity:1; fill:none\" points=\"835.206,1486.45 835.206,1467.55 \"/>\n",
       "<polyline clip-path=\"url(#clip910)\" style=\"stroke:#000000; stroke-linecap:round; stroke-linejoin:round; stroke-width:4; stroke-opacity:1; fill:none\" points=\"1250.97,1486.45 1250.97,1467.55 \"/>\n",
       "<polyline clip-path=\"url(#clip910)\" style=\"stroke:#000000; stroke-linecap:round; stroke-linejoin:round; stroke-width:4; stroke-opacity:1; fill:none\" points=\"1666.74,1486.45 1666.74,1467.55 \"/>\n",
       "<polyline clip-path=\"url(#clip910)\" style=\"stroke:#000000; stroke-linecap:round; stroke-linejoin:round; stroke-width:4; stroke-opacity:1; fill:none\" points=\"2082.51,1486.45 2082.51,1467.55 \"/>\n",
       "<path clip-path=\"url(#clip910)\" d=\"M388.34 1532.02 L418.016 1532.02 L418.016 1535.95 L388.34 1535.95 L388.34 1532.02 Z\" fill=\"#000000\" fill-rule=\"nonzero\" fill-opacity=\"1\" /><path clip-path=\"url(#clip910)\" d=\"M440.955 1518.36 L429.15 1536.81 L440.955 1536.81 L440.955 1518.36 M439.729 1514.29 L445.608 1514.29 L445.608 1536.81 L450.539 1536.81 L450.539 1540.7 L445.608 1540.7 L445.608 1548.85 L440.955 1548.85 L440.955 1540.7 L425.354 1540.7 L425.354 1536.19 L439.729 1514.29 Z\" fill=\"#000000\" fill-rule=\"nonzero\" fill-opacity=\"1\" /><path clip-path=\"url(#clip910)\" d=\"M805.149 1532.02 L834.824 1532.02 L834.824 1535.95 L805.149 1535.95 L805.149 1532.02 Z\" fill=\"#000000\" fill-rule=\"nonzero\" fill-opacity=\"1\" /><path clip-path=\"url(#clip910)\" d=\"M848.945 1544.91 L865.264 1544.91 L865.264 1548.85 L843.32 1548.85 L843.32 1544.91 Q845.982 1542.16 850.565 1537.53 Q855.172 1532.88 856.352 1531.53 Q858.597 1529.01 859.477 1527.27 Q860.38 1525.51 860.38 1523.82 Q860.38 1521.07 858.435 1519.33 Q856.514 1517.6 853.412 1517.6 Q851.213 1517.6 848.76 1518.36 Q846.329 1519.13 843.551 1520.68 L843.551 1515.95 Q846.375 1514.82 848.829 1514.24 Q851.283 1513.66 853.32 1513.66 Q858.69 1513.66 861.884 1516.35 Q865.079 1519.03 865.079 1523.52 Q865.079 1525.65 864.269 1527.57 Q863.482 1529.47 861.375 1532.07 Q860.797 1532.74 857.695 1535.95 Q854.593 1539.15 848.945 1544.91 Z\" fill=\"#000000\" fill-rule=\"nonzero\" fill-opacity=\"1\" /><path clip-path=\"url(#clip910)\" d=\"M1250.97 1517.37 Q1247.36 1517.37 1245.53 1520.93 Q1243.73 1524.47 1243.73 1531.6 Q1243.73 1538.71 1245.53 1542.27 Q1247.36 1545.82 1250.97 1545.82 Q1254.61 1545.82 1256.41 1542.27 Q1258.24 1538.71 1258.24 1531.6 Q1258.24 1524.47 1256.41 1520.93 Q1254.61 1517.37 1250.97 1517.37 M1250.97 1513.66 Q1256.78 1513.66 1259.84 1518.27 Q1262.92 1522.85 1262.92 1531.6 Q1262.92 1540.33 1259.84 1544.94 Q1256.78 1549.52 1250.97 1549.52 Q1245.16 1549.52 1242.08 1544.94 Q1239.03 1540.33 1239.03 1531.6 Q1239.03 1522.85 1242.08 1518.27 Q1245.16 1513.66 1250.97 1513.66 Z\" fill=\"#000000\" fill-rule=\"nonzero\" fill-opacity=\"1\" /><path clip-path=\"url(#clip910)\" d=\"M1661.39 1544.91 L1677.71 1544.91 L1677.71 1548.85 L1655.77 1548.85 L1655.77 1544.91 Q1658.43 1542.16 1663.01 1537.53 Q1667.62 1532.88 1668.8 1531.53 Q1671.05 1529.01 1671.93 1527.27 Q1672.83 1525.51 1672.83 1523.82 Q1672.83 1521.07 1670.88 1519.33 Q1668.96 1517.6 1665.86 1517.6 Q1663.66 1517.6 1661.21 1518.36 Q1658.78 1519.13 1656 1520.68 L1656 1515.95 Q1658.82 1514.82 1661.28 1514.24 Q1663.73 1513.66 1665.77 1513.66 Q1671.14 1513.66 1674.33 1516.35 Q1677.53 1519.03 1677.53 1523.52 Q1677.53 1525.65 1676.72 1527.57 Q1675.93 1529.47 1673.82 1532.07 Q1673.24 1532.74 1670.14 1535.95 Q1667.04 1539.15 1661.39 1544.91 Z\" fill=\"#000000\" fill-rule=\"nonzero\" fill-opacity=\"1\" /><path clip-path=\"url(#clip910)\" d=\"M2085.52 1518.36 L2073.71 1536.81 L2085.52 1536.81 L2085.52 1518.36 M2084.29 1514.29 L2090.17 1514.29 L2090.17 1536.81 L2095.1 1536.81 L2095.1 1540.7 L2090.17 1540.7 L2090.17 1548.85 L2085.52 1548.85 L2085.52 1540.7 L2069.91 1540.7 L2069.91 1536.19 L2084.29 1514.29 Z\" fill=\"#000000\" fill-rule=\"nonzero\" fill-opacity=\"1\" /><polyline clip-path=\"url(#clip910)\" style=\"stroke:#000000; stroke-linecap:round; stroke-linejoin:round; stroke-width:4; stroke-opacity:1; fill:none\" points=\"149.191,1486.45 149.191,123.472 \"/>\n",
       "<polyline clip-path=\"url(#clip910)\" style=\"stroke:#000000; stroke-linecap:round; stroke-linejoin:round; stroke-width:4; stroke-opacity:1; fill:none\" points=\"149.191,1396.44 168.089,1396.44 \"/>\n",
       "<polyline clip-path=\"url(#clip910)\" style=\"stroke:#000000; stroke-linecap:round; stroke-linejoin:round; stroke-width:4; stroke-opacity:1; fill:none\" points=\"149.191,1190.7 168.089,1190.7 \"/>\n",
       "<polyline clip-path=\"url(#clip910)\" style=\"stroke:#000000; stroke-linecap:round; stroke-linejoin:round; stroke-width:4; stroke-opacity:1; fill:none\" points=\"149.191,984.966 168.089,984.966 \"/>\n",
       "<polyline clip-path=\"url(#clip910)\" style=\"stroke:#000000; stroke-linecap:round; stroke-linejoin:round; stroke-width:4; stroke-opacity:1; fill:none\" points=\"149.191,779.23 168.089,779.23 \"/>\n",
       "<polyline clip-path=\"url(#clip910)\" style=\"stroke:#000000; stroke-linecap:round; stroke-linejoin:round; stroke-width:4; stroke-opacity:1; fill:none\" points=\"149.191,573.493 168.089,573.493 \"/>\n",
       "<polyline clip-path=\"url(#clip910)\" style=\"stroke:#000000; stroke-linecap:round; stroke-linejoin:round; stroke-width:4; stroke-opacity:1; fill:none\" points=\"149.191,367.757 168.089,367.757 \"/>\n",
       "<polyline clip-path=\"url(#clip910)\" style=\"stroke:#000000; stroke-linecap:round; stroke-linejoin:round; stroke-width:4; stroke-opacity:1; fill:none\" points=\"149.191,162.02 168.089,162.02 \"/>\n",
       "<path clip-path=\"url(#clip910)\" d=\"M51.3162 1396.89 L80.992 1396.89 L80.992 1400.83 L51.3162 1400.83 L51.3162 1396.89 Z\" fill=\"#000000\" fill-rule=\"nonzero\" fill-opacity=\"1\" /><path clip-path=\"url(#clip910)\" d=\"M101.663 1394.58 Q98.515 1394.58 96.6632 1396.73 Q94.8345 1398.88 94.8345 1402.63 Q94.8345 1406.36 96.6632 1408.53 Q98.515 1410.69 101.663 1410.69 Q104.811 1410.69 106.64 1408.53 Q108.492 1406.36 108.492 1402.63 Q108.492 1398.88 106.64 1396.73 Q104.811 1394.58 101.663 1394.58 M110.946 1379.92 L110.946 1384.18 Q109.186 1383.35 107.381 1382.91 Q105.598 1382.47 103.839 1382.47 Q99.2095 1382.47 96.7558 1385.59 Q94.3252 1388.72 93.978 1395.04 Q95.3437 1393.02 97.4039 1391.96 Q99.4641 1390.87 101.941 1390.87 Q107.149 1390.87 110.158 1394.04 Q113.191 1397.19 113.191 1402.63 Q113.191 1407.96 110.043 1411.17 Q106.895 1414.39 101.663 1414.39 Q95.6678 1414.39 92.4965 1409.81 Q89.3253 1405.2 89.3253 1396.47 Q89.3253 1388.28 93.2141 1383.42 Q97.103 1378.53 103.654 1378.53 Q105.413 1378.53 107.196 1378.88 Q109.001 1379.23 110.946 1379.92 Z\" fill=\"#000000\" fill-rule=\"nonzero\" fill-opacity=\"1\" /><path clip-path=\"url(#clip910)\" d=\"M52.4736 1191.15 L82.1494 1191.15 L82.1494 1195.09 L52.4736 1195.09 L52.4736 1191.15 Z\" fill=\"#000000\" fill-rule=\"nonzero\" fill-opacity=\"1\" /><path clip-path=\"url(#clip910)\" d=\"M92.2882 1173.42 L110.645 1173.42 L110.645 1177.36 L96.5706 1177.36 L96.5706 1185.83 Q97.5891 1185.48 98.6076 1185.32 Q99.6261 1185.14 100.645 1185.14 Q106.432 1185.14 109.811 1188.31 Q113.191 1191.48 113.191 1196.89 Q113.191 1202.47 109.719 1205.58 Q106.246 1208.65 99.927 1208.65 Q97.7511 1208.65 95.4826 1208.28 Q93.2373 1207.91 90.8299 1207.17 L90.8299 1202.47 Q92.9132 1203.61 95.1354 1204.16 Q97.3576 1204.72 99.8345 1204.72 Q103.839 1204.72 106.177 1202.61 Q108.515 1200.51 108.515 1196.89 Q108.515 1193.28 106.177 1191.18 Q103.839 1189.07 99.8345 1189.07 Q97.9595 1189.07 96.0845 1189.49 Q94.2326 1189.9 92.2882 1190.78 L92.2882 1173.42 Z\" fill=\"#000000\" fill-rule=\"nonzero\" fill-opacity=\"1\" /><path clip-path=\"url(#clip910)\" d=\"M50.9921 985.418 L80.6679 985.418 L80.6679 989.353 L50.9921 989.353 L50.9921 985.418 Z\" fill=\"#000000\" fill-rule=\"nonzero\" fill-opacity=\"1\" /><path clip-path=\"url(#clip910)\" d=\"M103.608 971.76 L91.8021 990.209 L103.608 990.209 L103.608 971.76 M102.381 967.686 L108.26 967.686 L108.26 990.209 L113.191 990.209 L113.191 994.098 L108.26 994.098 L108.26 1002.25 L103.608 1002.25 L103.608 994.098 L88.0058 994.098 L88.0058 989.584 L102.381 967.686 Z\" fill=\"#000000\" fill-rule=\"nonzero\" fill-opacity=\"1\" /><path clip-path=\"url(#clip910)\" d=\"M52.1264 779.681 L81.8021 779.681 L81.8021 783.616 L52.1264 783.616 L52.1264 779.681 Z\" fill=\"#000000\" fill-rule=\"nonzero\" fill-opacity=\"1\" /><path clip-path=\"url(#clip910)\" d=\"M106.061 777.876 Q109.418 778.593 111.293 780.862 Q113.191 783.13 113.191 786.463 Q113.191 791.579 109.672 794.38 Q106.154 797.181 99.6724 797.181 Q97.4965 797.181 95.1817 796.741 Q92.89 796.325 90.4364 795.468 L90.4364 790.954 Q92.3808 792.088 94.6956 792.667 Q97.0104 793.246 99.5335 793.246 Q103.932 793.246 106.223 791.51 Q108.538 789.774 108.538 786.463 Q108.538 783.408 106.385 781.695 Q104.256 779.959 100.436 779.959 L96.4085 779.959 L96.4085 776.116 L100.621 776.116 Q104.071 776.116 105.899 774.751 Q107.728 773.362 107.728 770.769 Q107.728 768.107 105.83 766.695 Q103.955 765.26 100.436 765.26 Q98.515 765.26 96.316 765.677 Q94.1169 766.093 91.478 766.973 L91.478 762.806 Q94.14 762.065 96.4548 761.695 Q98.7928 761.325 100.853 761.325 Q106.177 761.325 109.279 763.755 Q112.381 766.163 112.381 770.283 Q112.381 773.153 110.737 775.144 Q109.094 777.112 106.061 777.876 Z\" fill=\"#000000\" fill-rule=\"nonzero\" fill-opacity=\"1\" /><path clip-path=\"url(#clip910)\" d=\"M53.0754 573.945 L82.7512 573.945 L82.7512 577.88 L53.0754 577.88 L53.0754 573.945 Z\" fill=\"#000000\" fill-rule=\"nonzero\" fill-opacity=\"1\" /><path clip-path=\"url(#clip910)\" d=\"M96.8715 586.838 L113.191 586.838 L113.191 590.773 L91.2465 590.773 L91.2465 586.838 Q93.9086 584.084 98.4919 579.454 Q103.098 574.801 104.279 573.459 Q106.524 570.935 107.404 569.199 Q108.307 567.44 108.307 565.75 Q108.307 562.996 106.362 561.26 Q104.441 559.523 101.339 559.523 Q99.14 559.523 96.6863 560.287 Q94.2558 561.051 91.478 562.602 L91.478 557.88 Q94.3021 556.746 96.7558 556.167 Q99.2095 555.588 101.246 555.588 Q106.617 555.588 109.811 558.273 Q113.006 560.959 113.006 565.449 Q113.006 567.579 112.196 569.5 Q111.408 571.398 109.302 573.991 Q108.723 574.662 105.621 577.88 Q102.52 581.074 96.8715 586.838 Z\" fill=\"#000000\" fill-rule=\"nonzero\" fill-opacity=\"1\" /><path clip-path=\"url(#clip910)\" d=\"M52.7051 368.208 L82.3808 368.208 L82.3808 372.143 L52.7051 372.143 L52.7051 368.208 Z\" fill=\"#000000\" fill-rule=\"nonzero\" fill-opacity=\"1\" /><path clip-path=\"url(#clip910)\" d=\"M93.2836 381.102 L100.922 381.102 L100.922 354.736 L92.6123 356.403 L92.6123 352.144 L100.876 350.477 L105.552 350.477 L105.552 381.102 L113.191 381.102 L113.191 385.037 L93.2836 385.037 L93.2836 381.102 Z\" fill=\"#000000\" fill-rule=\"nonzero\" fill-opacity=\"1\" /><path clip-path=\"url(#clip910)\" d=\"M101.246 147.819 Q97.6354 147.819 95.8067 151.384 Q94.0012 154.926 94.0012 162.055 Q94.0012 169.162 95.8067 172.726 Q97.6354 176.268 101.246 176.268 Q104.881 176.268 106.686 172.726 Q108.515 169.162 108.515 162.055 Q108.515 154.926 106.686 151.384 Q104.881 147.819 101.246 147.819 M101.246 144.115 Q107.057 144.115 110.112 148.722 Q113.191 153.305 113.191 162.055 Q113.191 170.782 110.112 175.388 Q107.057 179.972 101.246 179.972 Q95.4363 179.972 92.3576 175.388 Q89.3021 170.782 89.3021 162.055 Q89.3021 153.305 92.3576 148.722 Q95.4363 144.115 101.246 144.115 Z\" fill=\"#000000\" fill-rule=\"nonzero\" fill-opacity=\"1\" /><path clip-path=\"url(#clip910)\" d=\"M964.791 30.9357 Q964.791 35.5265 961.389 39.7484 Q958.028 43.9703 952.535 46.5527 Q947.084 49.094 941.222 49.094 L926.958 49.094 L921.752 70.0805 Q921.711 70.2035 921.588 70.7363 Q921.465 71.2282 921.465 71.5151 Q921.465 72.5399 922.736 72.7858 Q924.048 73.0317 926.958 73.0317 Q928.844 73.0317 929.13 73.3597 Q929.294 73.5646 929.294 73.9335 Q929.294 74.5074 929.13 74.9172 Q928.967 75.2861 928.639 75.4091 Q928.352 75.5321 928.147 75.5731 Q927.942 75.6141 927.614 75.6141 Q926.753 75.6141 924.909 75.5321 Q923.105 75.4501 922.162 75.4501 L916.793 75.3681 L906.136 75.6141 Q904.865 75.6141 904.865 74.5893 Q904.865 73.8105 905.193 73.4826 Q905.521 73.1137 905.89 73.0727 Q906.258 73.0317 907.201 73.0317 Q909.251 73.0317 910.48 72.9088 Q911.71 72.7858 912.489 72.6218 Q913.309 72.4169 913.719 71.843 Q914.169 71.2692 914.374 70.7773 Q914.579 70.2445 914.866 69.0558 L926.097 23.9676 Q926.425 22.6149 926.425 22.41 Q926.425 21.7132 926.015 21.4672 Q925.646 21.1803 924.581 21.0573 Q922.531 20.8934 920.974 20.8934 Q919.949 20.8934 919.539 20.8524 Q919.17 20.8114 918.842 20.6065 Q918.555 20.3605 918.555 19.8686 Q918.555 19.0898 918.883 18.7619 Q919.252 18.393 919.662 18.352 Q920.072 18.2701 921.056 18.2701 L948.272 18.2701 Q956.101 18.2701 960.446 22.0001 Q964.791 25.7301 964.791 30.9357 M957.003 28.9273 Q957.003 20.8934 945.567 20.8934 L937.533 20.8934 Q934.869 20.8934 934.213 21.3852 Q933.557 21.8361 932.983 24.0905 L927.286 46.9216 L939.132 46.9216 Q947.084 46.9216 952.043 42.4537 Q954.298 40.4043 955.651 36.1414 Q957.003 31.8785 957.003 28.9273 Z\" fill=\"#000000\" fill-rule=\"nonzero\" fill-opacity=\"1\" /><path clip-path=\"url(#clip910)\" d=\"M987.249 18.2701 L975.157 66.8014 Q974.666 68.7279 974.666 70.8183 Q974.666 74.6713 977.207 74.6713 Q978.396 74.6713 979.379 73.8925 Q980.363 73.0727 981.101 71.4741 Q981.88 69.8346 982.372 68.277 Q982.904 66.7194 983.56 64.301 Q983.765 63.3583 983.97 63.0713 Q984.175 62.7844 984.749 62.7844 Q985.774 62.7844 985.774 63.6042 Q984.749 68.6459 983.232 71.843 Q981.019 76.5568 976.92 76.5568 Q973.846 76.5568 971.55 74.4254 Q969.296 72.2529 969.296 68.8098 Q969.296 67.4982 969.706 65.9406 L980.281 23.9676 L980.568 22.328 Q980.568 21.8771 980.404 21.6312 Q980.24 21.3852 979.256 21.1393 Q978.314 20.8934 976.428 20.8934 Q975.649 20.8934 975.28 20.8524 Q974.953 20.8114 974.625 20.6065 Q974.338 20.4015 974.338 19.9506 Q974.338 19.2128 974.625 18.8029 Q974.953 18.393 975.198 18.3111 Q975.444 18.2291 975.936 18.1881 Q976.633 18.1471 978.969 17.9421 Q981.306 17.6962 983.314 17.5323 Q985.323 17.3683 986.184 17.3683 Q986.675 17.3683 986.921 17.6142 Q987.208 17.8192 987.249 18.0651 L987.249 18.2701 Z\" fill=\"#000000\" fill-rule=\"nonzero\" fill-opacity=\"1\" /><path clip-path=\"url(#clip910)\" d=\"M1032.7 52.7011 Q1032.7 57.1689 1030.73 61.5957 Q1028.76 65.9816 1025.6 69.2607 Q1022.49 72.4989 1018.39 74.5483 Q1014.29 76.5568 1010.19 76.5568 Q1004.33 76.5568 1000.52 72.5809 Q996.748 68.5639 996.748 62.3335 Q996.748 56.5131 999.986 50.9795 Q1003.26 45.405 1008.51 41.9619 Q1013.76 38.5188 1019.25 38.5188 Q1025.03 38.5188 1028.84 42.4127 Q1032.7 46.3067 1032.7 52.7011 M1026.55 49.4219 Q1026.55 45.446 1024.62 42.9046 Q1022.69 40.3633 1019.17 40.3633 Q1018.14 40.3633 1016.96 40.6912 Q1015.77 40.9781 1014.21 41.7569 Q1012.69 42.5357 1010.97 44.1753 Q1009.29 45.7739 1007.81 48.0693 Q1005.89 51.1025 1004.41 56.677 Q1002.98 62.2106 1002.98 65.5307 Q1002.98 70.1215 1005.11 72.4169 Q1007.24 74.6713 1010.27 74.6713 Q1013.23 74.6713 1016.34 72.6218 Q1019.5 70.5314 1021.67 66.9653 Q1023.84 63.2763 1025.19 57.8657 Q1026.55 52.4141 1026.55 49.4219 Z\" fill=\"#000000\" fill-rule=\"nonzero\" fill-opacity=\"1\" /><path clip-path=\"url(#clip910)\" d=\"M1059.54 40.3633 Q1059.54 41.511 1059 41.7979 Q1058.47 42.0438 1057 42.0438 L1049.13 42.0438 L1042.89 66.8014 Q1042.4 68.9738 1042.4 70.8183 Q1042.4 72.8678 1043.02 73.7695 Q1043.67 74.6713 1045.03 74.6713 Q1047.69 74.6713 1050.56 72.2529 Q1053.47 69.8346 1055.93 63.9321 Q1056.26 63.1533 1056.42 62.9894 Q1056.63 62.7844 1057.16 62.7844 Q1058.18 62.7844 1058.18 63.6042 Q1058.18 63.8911 1057.61 65.2028 Q1057.08 66.5144 1055.89 68.4409 Q1054.74 70.3674 1053.22 72.171 Q1051.75 73.9745 1049.49 75.2861 Q1047.24 76.5568 1044.82 76.5568 Q1041.42 76.5568 1039.25 74.3844 Q1037.12 72.212 1037.12 68.8098 Q1037.12 67.7031 1037.98 64.1781 Q1038.84 60.612 1043.51 42.0438 L1036.09 42.0438 Q1035.07 42.0438 1034.66 42.0029 Q1034.29 41.9619 1034 41.7569 Q1033.75 41.511 1033.75 41.0191 Q1033.75 40.2403 1034.08 39.9124 Q1034.41 39.5435 1034.82 39.5025 Q1035.27 39.4205 1036.3 39.4205 L1044.17 39.4205 L1047.44 26.099 Q1047.77 24.7874 1048.59 24.0496 Q1049.45 23.2708 1049.95 23.1888 Q1050.44 23.0658 1050.81 23.0658 Q1051.91 23.0658 1052.57 23.6806 Q1053.22 24.2545 1053.22 25.3202 Q1053.22 25.8941 1049.78 39.4205 L1057.16 39.4205 Q1058.1 39.4205 1058.47 39.4615 Q1058.88 39.5025 1059.21 39.7075 Q1059.54 39.9124 1059.54 40.3633 Z\" fill=\"#000000\" fill-rule=\"nonzero\" fill-opacity=\"1\" /><path clip-path=\"url(#clip910)\" d=\"M1121.88 52.7011 Q1121.88 57.1689 1119.92 61.5957 Q1117.95 65.9816 1114.79 69.2607 Q1111.68 72.4989 1107.58 74.5483 Q1103.48 76.5568 1099.38 76.5568 Q1093.52 76.5568 1089.71 72.5809 Q1085.94 68.5639 1085.94 62.3335 Q1085.94 56.5131 1089.17 50.9795 Q1092.45 45.405 1097.7 41.9619 Q1102.95 38.5188 1108.44 38.5188 Q1114.22 38.5188 1118.03 42.4127 Q1121.88 46.3067 1121.88 52.7011 M1115.74 49.4219 Q1115.74 45.446 1113.81 42.9046 Q1111.88 40.3633 1108.36 40.3633 Q1107.33 40.3633 1106.14 40.6912 Q1104.96 40.9781 1103.4 41.7569 Q1101.88 42.5357 1100.16 44.1753 Q1098.48 45.7739 1097 48.0693 Q1095.08 51.1025 1093.6 56.677 Q1092.17 62.2106 1092.17 65.5307 Q1092.17 70.1215 1094.3 72.4169 Q1096.43 74.6713 1099.46 74.6713 Q1102.41 74.6713 1105.53 72.6218 Q1108.69 70.5314 1110.86 66.9653 Q1113.03 63.2763 1114.38 57.8657 Q1115.74 52.4141 1115.74 49.4219 Z\" fill=\"#000000\" fill-rule=\"nonzero\" fill-opacity=\"1\" /><path clip-path=\"url(#clip910)\" d=\"M1168.1 22.205 Q1168.1 24.4594 1166.66 25.8531 Q1165.27 27.2467 1163.51 27.2467 Q1162.24 27.2467 1161.29 26.4679 Q1160.39 25.6891 1160.39 24.3365 Q1160.39 22.9428 1161.46 21.4672 Q1162.52 19.9916 1164.94 19.7867 Q1163.34 18.2701 1160.8 18.2701 Q1159.53 18.2701 1158.47 19.0898 Q1157.44 19.8686 1156.87 21.1393 Q1156.25 22.451 1154.86 29.87 Q1154.41 32.2884 1154 34.6248 Q1153.59 36.9612 1153.1 39.4205 L1160.06 39.4205 Q1160.97 39.4205 1161.33 39.4615 Q1161.7 39.5025 1161.99 39.7075 Q1162.32 39.9124 1162.32 40.3633 Q1162.32 41.511 1161.79 41.7979 Q1161.29 42.0438 1159.82 42.0438 L1152.6 42.0438 L1147.56 68.6459 Q1147.44 69.4247 1146.91 71.884 Q1146.41 74.3024 1145.23 78.2784 Q1144.04 82.2953 1142.85 84.6727 Q1142.19 86.0253 1141.33 87.296 Q1140.51 88.6077 1139.32 89.9193 Q1138.13 91.231 1136.58 92.0098 Q1135.02 92.8296 1133.38 92.8296 Q1130.59 92.8296 1128.42 91.272 Q1126.25 89.7144 1126.25 87.0501 Q1126.25 84.7957 1127.64 83.402 Q1129.08 82.0084 1130.84 82.0084 Q1132.11 82.0084 1133.01 82.7872 Q1133.95 83.566 1133.95 84.9186 Q1133.95 85.4925 1133.75 86.1483 Q1133.54 86.8041 1133.09 87.5419 Q1132.64 88.3207 1131.66 88.8536 Q1130.67 89.3865 1129.32 89.4684 Q1130.92 90.985 1133.38 90.985 Q1134.16 90.985 1134.86 90.6571 Q1135.55 90.3702 1136.13 89.6324 Q1136.74 88.8946 1137.19 88.1568 Q1137.64 87.46 1138.09 86.1073 Q1138.54 84.7957 1138.83 83.8119 Q1139.12 82.8282 1139.49 81.0656 Q1139.9 79.3031 1140.1 78.2374 Q1140.31 77.2126 1140.68 75.2042 L1146.95 42.0438 L1141.41 42.0438 Q1140.43 42.0438 1140.02 42.0029 Q1139.65 41.9619 1139.36 41.7569 Q1139.08 41.511 1139.08 41.0191 Q1139.08 40.2403 1139.41 39.9124 Q1139.77 39.5435 1140.18 39.5025 Q1140.59 39.4205 1141.58 39.4205 L1147.4 39.4205 Q1149.37 29.0502 1150.14 26.263 Q1151.05 23.3117 1152.44 21.2623 Q1153.83 19.1718 1155.39 18.1881 Q1156.95 17.2043 1158.22 16.8354 Q1159.53 16.4255 1160.8 16.4255 Q1163.67 16.4255 1165.88 17.9831 Q1168.1 19.4997 1168.1 22.205 Z\" fill=\"#000000\" fill-rule=\"nonzero\" fill-opacity=\"1\" /><path clip-path=\"url(#clip910)\" d=\"M1245.67 53.4389 Q1246.17 53.9307 1246.17 54.6276 Q1246.17 55.3244 1245.67 55.8162 Q1245.18 56.3081 1244.48 56.3081 L1191.94 56.3081 Q1191.24 56.3081 1190.75 55.8162 Q1190.26 55.3244 1190.26 54.6276 Q1190.26 53.9307 1190.75 53.4389 Q1191.24 52.947 1191.94 52.947 L1244.48 52.947 Q1245.18 52.947 1245.67 53.4389 Z\" fill=\"#000000\" fill-rule=\"nonzero\" fill-opacity=\"1\" /><path clip-path=\"url(#clip910)\" d=\"M1278.22 48.7661 Q1278.22 36.4283 1281.33 29.7061 Q1285.68 19.7047 1295.92 19.7047 Q1298.1 19.7047 1300.35 20.3195 Q1302.65 20.8934 1305.51 23.1478 Q1308.43 25.4022 1310.19 29.0912 Q1313.55 36.2234 1313.55 48.7661 Q1313.55 61.0219 1310.43 67.7031 Q1305.88 77.4586 1295.84 77.4586 Q1292.07 77.4586 1288.22 75.5321 Q1284.41 73.6056 1281.99 68.9738 Q1278.22 62.0466 1278.22 48.7661 M1285.18 47.7414 Q1285.18 60.407 1286.09 65.4487 Q1287.11 70.9003 1289.9 73.2777 Q1292.73 75.6141 1295.84 75.6141 Q1299.2 75.6141 1301.99 73.1137 Q1304.82 70.5724 1305.68 65.1208 Q1306.62 59.7512 1306.58 47.7414 Q1306.58 36.0594 1305.76 31.3866 Q1304.65 25.9351 1301.7 23.7626 Q1298.79 21.5492 1295.84 21.5492 Q1294.73 21.5492 1293.55 21.8771 Q1292.4 22.205 1290.72 23.1478 Q1289.04 24.0905 1287.73 26.4269 Q1286.45 28.7633 1285.84 32.2884 Q1285.18 36.8382 1285.18 47.7414 Z\" fill=\"#000000\" fill-rule=\"nonzero\" fill-opacity=\"1\" /><path clip-path=\"url(#clip910)\" d=\"M1321.06 74.2614 Q1319.79 72.9088 1319.79 71.1462 Q1319.79 69.3837 1321.06 68.113 Q1322.33 66.8014 1324.25 66.8014 Q1326.1 66.8014 1327.33 68.031 Q1328.6 69.2197 1328.6 71.1872 Q1328.6 73.1137 1327.25 74.3844 Q1325.93 75.6141 1324.25 75.6141 Q1322.33 75.6141 1321.06 74.2614 Z\" fill=\"#000000\" fill-rule=\"nonzero\" fill-opacity=\"1\" /><path clip-path=\"url(#clip910)\" d=\"M1342.89 75.6141 Q1342.89 74.0975 1343.01 73.6466 Q1343.17 73.1957 1343.83 72.4989 L1359.94 54.5456 Q1368.75 44.6262 1368.75 35.9774 Q1368.75 30.3619 1365.8 26.345 Q1362.89 22.328 1357.52 22.328 Q1353.83 22.328 1350.71 24.5824 Q1347.6 26.8368 1346.16 30.8538 Q1346.41 30.7718 1347.27 30.7718 Q1349.36 30.7718 1350.51 32.0834 Q1351.7 33.3951 1351.7 35.1576 Q1351.7 37.4121 1350.22 38.5188 Q1348.79 39.5845 1347.35 39.5845 Q1346.78 39.5845 1346 39.4615 Q1345.26 39.3386 1344.07 38.1909 Q1342.89 37.0022 1342.89 34.9117 Q1342.89 29.0502 1347.31 24.3775 Q1351.78 19.7047 1358.58 19.7047 Q1366.29 19.7047 1371.33 24.2955 Q1376.41 28.8453 1376.41 35.9774 Q1376.41 38.4778 1375.64 40.7732 Q1374.9 43.0276 1373.87 44.7901 Q1372.89 46.5527 1370.18 49.3809 Q1367.48 52.2092 1365.31 54.2177 Q1363.13 56.2261 1358.26 60.489 L1349.36 69.1378 L1364.49 69.1378 Q1371.86 69.1378 1372.44 68.4819 Q1373.26 67.2932 1374.28 61.0219 L1376.41 61.0219 L1374.04 75.6141 L1342.89 75.6141 Z\" fill=\"#000000\" fill-rule=\"nonzero\" fill-opacity=\"1\" /><path clip-path=\"url(#clip910)\" d=\"M1384.79 62.0876 Q1384.79 59.5873 1386.14 58.6445 Q1387.5 57.6608 1388.93 57.6608 Q1390.86 57.6608 1391.96 58.8904 Q1393.11 60.0791 1393.11 61.7597 Q1393.11 63.4402 1391.96 64.6699 Q1390.86 65.8586 1388.93 65.8586 Q1387.99 65.8586 1387.5 65.6947 Q1388.6 69.5476 1391.96 72.3349 Q1395.37 75.1222 1399.83 75.1222 Q1405.45 75.1222 1408.81 69.6706 Q1410.82 66.1455 1410.82 58.1526 Q1410.82 51.1025 1409.3 47.5774 Q1406.97 42.2078 1402.17 42.2078 Q1395.37 42.2078 1391.35 48.0693 Q1390.86 48.8071 1390.28 48.8481 Q1389.46 48.8481 1389.26 48.3972 Q1389.1 47.9053 1389.1 46.6346 L1389.1 21.7951 Q1389.1 19.7867 1389.92 19.7867 Q1390.24 19.7867 1390.94 20.0326 Q1396.23 22.369 1402.09 22.41 Q1408.11 22.41 1413.53 19.9506 Q1413.94 19.7047 1414.18 19.7047 Q1415 19.7047 1415.04 20.6474 Q1415.04 20.9754 1414.35 21.9591 Q1413.69 22.9019 1412.25 24.1725 Q1410.82 25.4022 1408.98 26.5909 Q1407.13 27.7796 1404.43 28.5994 Q1401.76 29.3782 1398.81 29.3782 Q1395.29 29.3782 1391.68 28.2714 L1391.68 44.6262 Q1396.02 40.3633 1402.34 40.3633 Q1409.06 40.3633 1413.69 45.7739 Q1418.32 51.1845 1418.32 58.7265 Q1418.32 66.6374 1412.83 72.048 Q1407.38 77.4586 1400 77.4586 Q1393.28 77.4586 1389.01 72.6628 Q1384.79 67.8671 1384.79 62.0876 Z\" fill=\"#000000\" fill-rule=\"nonzero\" fill-opacity=\"1\" /><path clip-path=\"url(#clip910)\" d=\"M1449.65 60.1047 Q1449.65 58.6701 1451.58 57.7274 L1463.26 52.1938 L1451.42 46.6603 Q1449.65 45.8405 1449.65 44.4059 Q1449.65 43.5861 1450.31 42.8483 Q1451.01 42.0695 1451.91 42.0695 Q1452.56 42.0695 1453.75 42.9712 L1464.16 50.5133 Q1462.89 36.6589 1462.93 36.249 Q1462.93 35.4292 1463.55 34.8144 Q1464.16 34.1585 1465.19 34.1585 Q1466.01 34.1585 1466.66 34.7734 Q1467.36 35.3472 1467.36 36.249 L1466.13 50.5133 L1475.43 43.6271 Q1477.61 42.0285 1478.39 42.0695 Q1479.33 42.0695 1479.98 42.8073 Q1480.64 43.5451 1480.64 44.4059 Q1480.64 45.8405 1478.71 46.7422 L1467.03 52.2758 L1478.88 57.8503 Q1480.64 58.6701 1480.64 60.1047 Q1480.64 60.9245 1479.94 61.7033 Q1479.29 62.4411 1478.39 62.4411 Q1477.89 62.4411 1477.03 61.9493 Q1476.87 61.8673 1475.11 60.5556 Q1473.34 59.244 1470.6 57.2355 Q1467.89 55.227 1466.13 53.9564 Q1467.4 67.8107 1467.36 68.2206 Q1467.36 69.0404 1466.75 69.6962 Q1466.13 70.3521 1465.11 70.3521 Q1464.29 70.3521 1463.59 69.7782 Q1462.93 69.1634 1462.93 68.2206 L1464.16 53.9564 L1452.44 62.4411 Q1451.17 62.4411 1450.47 61.8263 Q1449.82 61.1705 1449.73 60.8016 Q1449.65 60.4327 1449.65 60.1047 Z\" fill=\"#000000\" fill-rule=\"nonzero\" fill-opacity=\"1\" /><path clip-path=\"url(#clip910)\" d=\"M1556.32 44.0523 Q1556.32 46.3477 1554.89 47.6594 Q1553.45 48.93 1551.81 48.93 Q1550.26 48.93 1549.44 48.0283 Q1548.62 47.1265 1548.62 45.9788 Q1548.62 44.4212 1549.76 43.0686 Q1550.91 41.7159 1552.63 41.429 Q1550.95 40.3633 1548.45 40.3633 Q1546.81 40.3633 1545.38 41.2241 Q1543.98 42.0848 1543.12 43.1915 Q1542.3 44.2983 1541.57 45.8968 Q1540.87 47.4544 1540.58 48.3972 Q1540.34 49.2989 1540.13 50.2827 L1537.26 61.7597 Q1535.87 67.2113 1535.87 69.1378 Q1535.87 71.5151 1537.02 73.1137 Q1538.16 74.6713 1540.46 74.6713 Q1541.36 74.6713 1542.39 74.4254 Q1543.41 74.1384 1544.72 73.4006 Q1546.08 72.6218 1547.26 71.4741 Q1548.49 70.2855 1549.68 68.277 Q1550.87 66.2685 1551.65 63.6862 Q1551.9 62.7844 1552.72 62.7844 Q1553.74 62.7844 1553.74 63.6042 Q1553.74 64.301 1553.17 65.7766 Q1552.63 67.2113 1551.44 69.0968 Q1550.3 70.9413 1548.78 72.6218 Q1547.26 74.2614 1545.01 75.4091 Q1542.76 76.5568 1540.3 76.5568 Q1536.77 76.5568 1534.43 74.6713 Q1532.1 72.7858 1531.24 70.1625 Q1531.03 70.5314 1530.75 71.0233 Q1530.46 71.5151 1529.6 72.6218 Q1528.78 73.6876 1527.84 74.5074 Q1526.89 75.2861 1525.42 75.901 Q1523.98 76.5568 1522.42 76.5568 Q1520.46 76.5568 1518.69 75.983 Q1516.97 75.4091 1515.74 74.0975 Q1514.51 72.7858 1514.51 70.9823 Q1514.51 68.9738 1515.87 67.5802 Q1517.26 66.1455 1519.15 66.1455 Q1520.33 66.1455 1521.28 66.8424 Q1522.26 67.5392 1522.26 69.0558 Q1522.26 70.7363 1521.11 72.007 Q1519.97 73.2777 1518.33 73.6056 Q1520.01 74.6713 1522.51 74.6713 Q1525.21 74.6713 1527.34 72.2939 Q1529.47 69.9166 1530.5 65.9406 Q1533.04 56.3901 1534.02 52.1272 Q1535.01 47.8233 1535.01 45.9788 Q1535.01 44.2573 1534.56 43.0686 Q1534.11 41.8799 1533.33 41.347 Q1532.59 40.7732 1531.89 40.5682 Q1531.24 40.3633 1530.5 40.3633 Q1529.27 40.3633 1527.88 40.8552 Q1526.52 41.347 1524.88 42.4947 Q1523.29 43.6014 1521.77 45.8968 Q1520.25 48.1922 1519.23 51.3484 Q1519.02 52.2912 1518.12 52.2912 Q1517.14 52.2502 1517.14 51.4304 Q1517.14 50.7336 1517.67 49.2989 Q1518.24 47.8233 1519.39 45.9788 Q1520.58 44.1343 1522.1 42.4947 Q1523.65 40.8142 1525.91 39.6665 Q1528.2 38.5188 1530.66 38.5188 Q1531.77 38.5188 1532.84 38.7647 Q1533.94 38.9696 1535.25 39.5845 Q1536.61 40.1993 1537.8 41.552 Q1538.98 42.9046 1539.72 44.8721 Q1540.21 43.9294 1540.87 43.0276 Q1541.57 42.1258 1542.63 41.0191 Q1543.74 39.8714 1545.26 39.2156 Q1546.81 38.5188 1548.53 38.5188 Q1550.22 38.5188 1551.85 38.9696 Q1553.49 39.3795 1554.89 40.7322 Q1556.32 42.0438 1556.32 44.0523 Z\" fill=\"#000000\" fill-rule=\"nonzero\" fill-opacity=\"1\" /><path clip-path=\"url(#clip910)\" d=\"M1564.88 50.5084 Q1564.88 49.4468 1564.97 49.1312 Q1565.08 48.8156 1565.54 48.3278 L1576.82 35.7605 Q1582.98 28.8169 1582.98 22.7628 Q1582.98 18.8319 1580.92 16.0201 Q1578.88 13.2082 1575.12 13.2082 Q1572.54 13.2082 1570.36 14.7863 Q1568.18 16.3644 1567.18 19.1762 Q1567.35 19.1188 1567.95 19.1188 Q1569.41 19.1188 1570.22 20.037 Q1571.05 20.9552 1571.05 22.1889 Q1571.05 23.767 1570.02 24.5417 Q1569.01 25.2877 1568.01 25.2877 Q1567.61 25.2877 1567.06 25.2017 Q1566.54 25.1156 1565.71 24.3122 Q1564.88 23.4801 1564.88 22.0168 Q1564.88 17.9138 1567.98 14.6428 Q1571.11 11.3719 1575.87 11.3719 Q1581.26 11.3719 1584.79 14.5854 Q1588.35 17.7703 1588.35 22.7628 Q1588.35 24.513 1587.81 26.1198 Q1587.29 27.6979 1586.57 28.9317 Q1585.88 30.1655 1583.99 32.1452 Q1582.1 34.125 1580.57 35.531 Q1579.05 36.9369 1575.64 39.9209 L1569.41 45.975 L1580 45.975 Q1585.17 45.975 1585.57 45.5159 Q1586.14 44.6839 1586.86 40.2939 L1588.35 40.2939 L1586.69 50.5084 L1564.88 50.5084 Z\" fill=\"#000000\" fill-rule=\"nonzero\" fill-opacity=\"1\" /><polyline clip-path=\"url(#clip912)\" style=\"stroke:#009af9; stroke-linecap:round; stroke-linejoin:round; stroke-width:4; stroke-opacity:1; fill:none\" points=\"211.556,1447.87 222.287,1421.46 233.017,1395.32 264.441,1320.35 295.866,1247.74 327.29,1177.47 358.714,1109.55 387.951,1048.47 417.188,989.428 436.782,950.996 456.377,913.479 475.971,876.874 495.565,841.184 527.947,784.205 560.329,729.722 590.441,681.298 620.553,635.032 658.353,580.008 696.154,528.386 730.062,484.973 763.969,444.298 783.375,422.25 802.781,401.099 822.187,380.844 841.593,361.485 870.604,334.216 899.616,308.95 936.723,279.554 973.829,253.436 1007.7,232.459 1041.56,214.212 1060.84,205.048 1080.11,196.767 1099.38,189.371 1118.65,182.858 1149.21,174.346 1179.77,168.055 1217.73,163.336 1255.69,162.047 1284.76,163.379 1313.83,166.723 1334.33,170.29 1354.82,174.856 1375.32,180.422 1395.81,186.987 1426.44,198.664 1457.07,212.573 1491.9,231.105 1526.73,252.526 1561.23,276.585 1595.73,303.478 1633.68,336.337 1671.63,372.625 1700.62,402.652 1729.61,434.679 1766.19,477.95 1802.77,524.406 1836.6,570.208 1870.44,618.736 1905.33,671.638 1940.23,727.438 1975.6,786.956 2010.97,849.451 2047.9,917.886 2084.83,989.568 2113.92,1048.32 2143.02,1109.09 2176.14,1180.74 2209.27,1255 2242.4,1331.87 2275.52,1411.35 2279.24,1420.43 2282.96,1429.55 2286.67,1438.69 2290.39,1447.87 \"/>\n",
       "</svg>\n"
      ]
     },
     "metadata": {},
     "output_type": "display_data"
    }
   ],
   "source": [
    "@variables x\n",
    "a = -1/4\n",
    "n=2\n",
    "f = a*x^n\n",
    "plot(f,legend=false)\n",
    "title!(L\"Plot\\ of %$a * x^%$n\")"
   ]
  }
 ],
 "metadata": {
  "kernelspec": {
   "display_name": "Julia 1.11.1",
   "language": "julia",
   "name": "julia-1.11"
  },
  "language_info": {
   "file_extension": ".jl",
   "mimetype": "application/julia",
   "name": "julia",
   "version": "1.11.1"
  }
 },
 "nbformat": 4,
 "nbformat_minor": 2
}
