{
 "cells": [
  {
   "cell_type": "code",
   "execution_count": 1,
   "metadata": {},
   "outputs": [],
   "source": [
    "using Plots\n",
    "using Symbolics\n",
    "\n"
   ]
  },
  {
   "cell_type": "markdown",
   "metadata": {},
   "source": [
    "Example of simplifying an algebraic expression using *Symbolics.jl*:"
   ]
  },
  {
   "cell_type": "code",
   "execution_count": 2,
   "metadata": {},
   "outputs": [
    {
     "data": {
      "text/latex": [
       "$$ \\begin{equation}\n",
       " - 3 b + 12 b^{2} a + 18 b^{3} - 12 b^{2} a^{2} - 18 b^{3} a\n",
       "\\end{equation}\n",
       " $$"
      ],
      "text/plain": [
       "-3b + 12a*(b^2) + 18(b^3) - 12(a^2)*(b^2) - 18a*(b^3)"
      ]
     },
     "metadata": {},
     "output_type": "display_data"
    }
   ],
   "source": [
    "@variables a b c\n",
    "expr = 3b - (2b * (3 - (2 * a + 3 * b) * (3 * b * (1 - a))))\n",
    "simplify(expr, expand=true)"
   ]
  },
  {
   "cell_type": "code",
   "execution_count": 3,
   "metadata": {},
   "outputs": [
    {
     "data": {
      "text/latex": [
       "$$ \\begin{equation}\n",
       " - 3 b + 12 b^{2} a + 18 b^{3} - 12 b^{2} a^{2} - 18 b^{3} a\n",
       "\\end{equation}\n",
       " $$"
      ],
      "text/plain": [
       "-3b + 12a*(b^2) + 18(b^3) - 12(a^2)*(b^2) - 18a*(b^3)"
      ]
     },
     "metadata": {},
     "output_type": "display_data"
    }
   ],
   "source": [
    "@variables a b c\n",
    "expr = PolyForm(3b - (2b * (3 - (2 * a + 3 * b) * (3 * b * (1 - a)))))\n",
    "simplify(expr, expand=true)"
   ]
  },
  {
   "cell_type": "markdown",
   "metadata": {},
   "source": [
    "Examples of fraction simplification:"
   ]
  },
  {
   "cell_type": "code",
   "execution_count": 4,
   "metadata": {},
   "outputs": [
    {
     "data": {
      "text/plain": [
       "1//108"
      ]
     },
     "metadata": {},
     "output_type": "display_data"
    }
   ],
   "source": [
    "((1 // 2)^3) * ((2 // 3)^5) * ((3 // 4)^2)"
   ]
  },
  {
   "cell_type": "code",
   "execution_count": 5,
   "metadata": {},
   "outputs": [
    {
     "data": {
      "text/plain": [
       "169//361"
      ]
     },
     "metadata": {},
     "output_type": "display_data"
    }
   ],
   "source": [
    "52 // 76 / 19 // 13"
   ]
  },
  {
   "cell_type": "code",
   "execution_count": 6,
   "metadata": {},
   "outputs": [
    {
     "data": {
      "text/plain": [
       "13//2"
      ]
     },
     "metadata": {},
     "output_type": "display_data"
    }
   ],
   "source": [
    "13 // 7 * 21 // 6"
   ]
  },
  {
   "cell_type": "markdown",
   "metadata": {},
   "source": [
    "Examples of power simplification:"
   ]
  },
  {
   "cell_type": "code",
   "execution_count": 7,
   "metadata": {},
   "outputs": [
    {
     "data": {
      "text/plain": [
       "1.14729 + 0.18171im"
      ]
     },
     "metadata": {},
     "output_type": "display_data"
    }
   ],
   "source": [
    "round(Complex(-20)^(1 / 20), digits=5)"
   ]
  },
  {
   "cell_type": "code",
   "execution_count": 8,
   "metadata": {},
   "outputs": [
    {
     "data": {
      "text/plain": [
       "-20.0 + 0.0im"
      ]
     },
     "metadata": {},
     "output_type": "display_data"
    }
   ],
   "source": [
    "round((Complex(-20)^(1 / 20))^20, digits=5)"
   ]
  },
  {
   "cell_type": "code",
   "execution_count": 4,
   "metadata": {},
   "outputs": [
    {
     "data": {
      "text/latex": [
       "$$ \\begin{equation}\n",
       " - 3 b + 12 b^{2} a + 18 b^{3} - 12 b^{2} a^{2} - 18 b^{3} a\n",
       "\\end{equation}\n",
       " $$"
      ],
      "text/plain": [
       "-3b + 12a*(b^2) + 18(b^3) - 12(a^2)*(b^2) - 18a*(b^3)"
      ]
     },
     "metadata": {},
     "output_type": "display_data"
    }
   ],
   "source": [
    "@variables a b\n",
    "simplify(3*b- (2*b * (3- (2*a + 3*b) * (3*b - 3*a*b))), expand=true)"
   ]
  },
  {
   "cell_type": "code",
   "execution_count": 6,
   "metadata": {},
   "outputs": [
    {
     "data": {
      "text/html": [
       "1 * x * a * (b*x + y) * y"
      ],
      "text/latex": [
       "1 \\cdot x \\cdot a \\cdot \\left(b x + y\\right) \\cdot y"
      ],
      "text/plain": [
       "1 * x * a * (b*x + y) * y"
      ]
     },
     "metadata": {},
     "output_type": "display_data"
    }
   ],
   "source": [
    "using  Nemo\n",
    "R, (a, b, c, x, y,z) = polynomial_ring(ZZ, [\"a\", \"b\",\"c\", \"x\", \"y\",\"z\"]);\n",
    "S = fraction_field(R)\n",
    "factor(a * b * x^2 * y + a * x * y^2)\n"
   ]
  },
  {
   "cell_type": "code",
   "execution_count": 7,
   "metadata": {},
   "outputs": [
    {
     "data": {
      "text/html": [
       "a*x*y"
      ],
      "text/latex": [
       "a x y"
      ],
      "text/plain": [
       "a*x*y"
      ]
     },
     "metadata": {},
     "output_type": "display_data"
    }
   ],
   "source": [
    "gcd(a * b * x^2 * y, a * x * y^2)"
   ]
  },
  {
   "cell_type": "code",
   "execution_count": 5,
   "metadata": {},
   "outputs": [
    {
     "data": {
      "text/html": [
       "-1 * a * (2*a*x - 2*b*x^2 - 4*b - x) * 3"
      ],
      "text/latex": [
       "-1 \\cdot a \\cdot \\left(2 a x - 2 b x^{2} - 4 b - x\\right) \\cdot 3"
      ],
      "text/plain": [
       "-1 * a * (2*a*x - 2*b*x^2 - 4*b - x) * 3"
      ]
     },
     "metadata": {},
     "output_type": "display_data"
    }
   ],
   "source": [
    "factor(6*a*b*x^2 - 6*a^2 *x + 3*a*x + 12*a*b)"
   ]
  },
  {
   "cell_type": "code",
   "execution_count": 10,
   "metadata": {},
   "outputs": [
    {
     "data": {
      "text/html": [
       "3*a"
      ],
      "text/latex": [
       "3 a"
      ],
      "text/plain": [
       "3*a"
      ]
     },
     "metadata": {},
     "output_type": "display_data"
    }
   ],
   "source": [
    "gcd(6 * a * b * x^2, 6 * a * b * x^2 - 6 * a^2 * x, 3 * a * x, 12 * a * b)"
   ]
  },
  {
   "cell_type": "code",
   "execution_count": 14,
   "metadata": {},
   "outputs": [
    {
     "data": {
      "text/html": [
       "17*y"
      ],
      "text/latex": [
       "17 y"
      ],
      "text/plain": [
       "17*y"
      ]
     },
     "metadata": {},
     "output_type": "display_data"
    }
   ],
   "source": [
    "gcd(34*x*y*z^2,-17*x^3*y*z, 51*y^4)"
   ]
  },
  {
   "cell_type": "code",
   "execution_count": 21,
   "metadata": {},
   "outputs": [
    {
     "data": {
      "text/html": [
       "1 * b * 2 * a * (a - 2*b + 4*c) * c"
      ],
      "text/latex": [
       "1 \\cdot b \\cdot 2 \\cdot a \\cdot \\left(a - 2 b + 4 c\\right) \\cdot c"
      ],
      "text/plain": [
       "1 * b * 2 * a * (a - 2*b + 4*c) * c"
      ]
     },
     "metadata": {},
     "output_type": "display_data"
    }
   ],
   "source": [
    "factor(2*a^2*b*c-4*a*b^2*c+8*a*b*c^2)"
   ]
  },
  {
   "cell_type": "code",
   "execution_count": 24,
   "metadata": {},
   "outputs": [
    {
     "data": {
      "text/html": [
       "2*a*b*c"
      ],
      "text/latex": [
       "2 a b c"
      ],
      "text/plain": [
       "2*a*b*c"
      ]
     },
     "metadata": {},
     "output_type": "display_data"
    }
   ],
   "source": [
    "gcd(2 * a^2 * b * c ,- 4 * a * b^2 * c ,8 * a * b * c^2)"
   ]
  },
  {
   "cell_type": "code",
   "execution_count": 33,
   "metadata": {},
   "outputs": [
    {
     "data": {
      "text/html": [
       "(4*x - 2*y)//y"
      ],
      "text/latex": [
       "\\frac{4 x - 2 y}{y}"
      ],
      "text/plain": [
       "(4*x - 2*y)//y"
      ]
     },
     "metadata": {},
     "output_type": "display_data"
    }
   ],
   "source": [
    "factor((4*a*x-2*a*y)//(a*y))"
   ]
  },
  {
   "cell_type": "code",
   "execution_count": 32,
   "metadata": {},
   "outputs": [
    {
     "data": {
      "text/html": [
       "1 * (2*x - y) * 2"
      ],
      "text/latex": [
       "1 \\cdot \\left(2 x - y\\right) \\cdot 2"
      ],
      "text/plain": [
       "1 * (2*x - y) * 2"
      ]
     },
     "metadata": {},
     "output_type": "display_data"
    }
   ],
   "source": [
    "factor(4*x - 2*y)"
   ]
  },
  {
   "cell_type": "code",
   "execution_count": 35,
   "metadata": {},
   "outputs": [
    {
     "data": {
      "text/html": [
       "(-2*a*x + 2*b*x^2 + 4*b + x)//(2*a*x - 4*x^2 + 2*x*y^2)"
      ],
      "text/latex": [
       "\\frac{-2 a x + 2 b x^{2} + 4 b + x}{2 a x - 4 x^{2} + 2 x y^{2}}"
      ],
      "text/plain": [
       "(-2*a*x + 2*b*x^2 + 4*b + x)//(2*a*x - 4*x^2 + 2*x*y^2)"
      ]
     },
     "metadata": {},
     "output_type": "display_data"
    }
   ],
   "source": [
    "f = factor((6*a*b*x^2 - 6*a^2*x + 3*a*x + 12*a*b)//(6*a*x*y^2 - 12*a*x^2 + 6*a^2*x ))\n",
    "#fn = S(6*a*b*x^2 - 6*a^2*x + 3*a*x + 12*a*b)\n",
    "#fd = S(6*a*x*y^2 - 12*a*x^2 + 6*a^2*x)\n",
    "#factor(fn//fd)\n",
    "\n",
    "\n"
   ]
  },
  {
   "cell_type": "code",
   "execution_count": 36,
   "metadata": {},
   "outputs": [
    {
     "data": {
      "text/html": [
       "1 * (a - 2*x + y^2) * x * 2"
      ],
      "text/latex": [
       "1 \\cdot \\left(a - 2 x + y^{2}\\right) \\cdot x \\cdot 2"
      ],
      "text/plain": [
       "1 * (a - 2*x + y^2) * x * 2"
      ]
     },
     "metadata": {},
     "output_type": "display_data"
    }
   ],
   "source": [
    "factor(2*a*x - 4*x^2 + 2*x*y^2)\n"
   ]
  },
  {
   "cell_type": "code",
   "execution_count": 38,
   "metadata": {},
   "outputs": [
    {
     "data": {
      "text/html": [
       "(2*b*c^2)//(c - 2)"
      ],
      "text/latex": [
       "\\frac{2 b c^{2}}{c - 2}"
      ],
      "text/plain": [
       "(2*b*c^2)//(c - 2)"
      ]
     },
     "metadata": {},
     "output_type": "display_data"
    }
   ],
   "source": [
    "factor((4*a^3*(b*c)^2)//((2*a*b*c-4*a*b)*a^2))"
   ]
  },
  {
   "cell_type": "code",
   "execution_count": 39,
   "metadata": {},
   "outputs": [
    {
     "data": {
      "text/html": [
       "(3*x^3)//y^3"
      ],
      "text/latex": [
       "\\frac{3 x^{3}}{y^{3}}"
      ],
      "text/plain": [
       "(3*x^3)//y^3"
      ]
     },
     "metadata": {},
     "output_type": "display_data"
    }
   ],
   "source": [
    "factor((3*x^2*y*z)^3//(9*(x*y^2*z)^3))"
   ]
  }
 ],
 "metadata": {
  "kernelspec": {
   "display_name": "Julia 1.10.5",
   "language": "julia",
   "name": "julia-1.10"
  },
  "language_info": {
   "file_extension": ".jl",
   "mimetype": "application/julia",
   "name": "julia",
   "version": "1.10.5"
  }
 },
 "nbformat": 4,
 "nbformat_minor": 2
}
